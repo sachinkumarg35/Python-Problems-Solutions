{
 "cells": [
  {
   "cell_type": "markdown",
   "metadata": {},
   "source": [
    "# Python Programs on List"
   ]
  },
  {
   "cell_type": "markdown",
   "metadata": {},
   "source": [
    "1. Python Program to Find Largest Number in a List"
   ]
  },
  {
   "cell_type": "code",
   "execution_count": 1,
   "metadata": {},
   "outputs": [
    {
     "name": "stdout",
     "output_type": "stream",
     "text": [
      "Enter number of elements: 5\n",
      "Enter element: 1\n",
      "Enter element: 2\n",
      "Enter element: 3\n",
      "Enter element: 4\n",
      "Enter element: 5\n",
      "Largest number is: 5\n"
     ]
    }
   ],
   "source": [
    "a = []\n",
    "n = int(input('Enter number of elements: '))\n",
    "for i in range(1, n+1):\n",
    "    b=int(input('Enter element: '))\n",
    "    a.append(b)\n",
    "a.sort()\n",
    "print('Largest number is:', a[n-1])"
   ]
  },
  {
   "cell_type": "markdown",
   "metadata": {},
   "source": [
    "2. Python Program to Find Second Largest Number in a List"
   ]
  },
  {
   "cell_type": "code",
   "execution_count": 6,
   "metadata": {},
   "outputs": [
    {
     "name": "stdout",
     "output_type": "stream",
     "text": [
      "Enter number of elements: 5\n",
      "Enter element: 1\n",
      "Enter element: 2\n",
      "Enter element: 3\n",
      "Enter element: 4\n",
      "Enter element: 5\n",
      "Second Largest number is:  4\n"
     ]
    }
   ],
   "source": [
    "a = []\n",
    "n = int(input('Enter number of elements: '))\n",
    "for i in range(1, n+1):\n",
    "    b=int(input('Enter element: '))\n",
    "    a.append(b)\n",
    "a.sort()\n",
    "print('Second Largest number is: ', a[n-2])"
   ]
  },
  {
   "cell_type": "markdown",
   "metadata": {},
   "source": [
    "3. Python Program to Print Largest Even and Largest Odd Number in a List"
   ]
  },
  {
   "cell_type": "code",
   "execution_count": 9,
   "metadata": {},
   "outputs": [
    {
     "name": "stdout",
     "output_type": "stream",
     "text": [
      "Enter the number of elements to be in the list: 5\n",
      "Element: 1\n",
      "Element: 2\n",
      "Element: 3\n",
      "Element: 4\n",
      "Element: 5\n",
      "Largest even number:  4\n",
      "Largest odd number:  5\n"
     ]
    }
   ],
   "source": [
    "n=int(input('Enter the number of elements to be in the list: '))\n",
    "b = []\n",
    "for i in range(0, n):\n",
    "    a=int(input('Element: '))\n",
    "    b.append(a)\n",
    "c=[]\n",
    "d=[]\n",
    "for i in b:\n",
    "    if(i%2 == 0):\n",
    "        c.append(i)\n",
    "    else:\n",
    "        d.append(i)\n",
    "c.sort()\n",
    "d.sort()\n",
    "count1 = 0\n",
    "count2 = 0\n",
    "for k in c:\n",
    "    count1 = count1+1\n",
    "for j in d:\n",
    "    count2 = count2+1\n",
    "print(\"Largest even number: \", c[count1-1])\n",
    "print(\"Largest odd number: \", d[count2-1])"
   ]
  },
  {
   "cell_type": "markdown",
   "metadata": {},
   "source": [
    "4. Python Program to Split Even and Odd Elements into Two Lists"
   ]
  },
  {
   "cell_type": "code",
   "execution_count": 1,
   "metadata": {},
   "outputs": [
    {
     "name": "stdout",
     "output_type": "stream",
     "text": [
      "Enter number of elements: 5\n",
      "Enter element: 1\n",
      "Enter element: 2\n",
      "Enter element: 3\n",
      "Enter element: 4\n",
      "Enter element: 5\n",
      "The even list [2, 4]\n",
      "The odd list [1, 3, 5]\n"
     ]
    }
   ],
   "source": [
    "a = []\n",
    "n = int(input(\"Enter number of elements: \"))\n",
    "for i in range(1, n+1):\n",
    "    b = int(input('Enter element: '))\n",
    "    a.append(b)\n",
    "even = []\n",
    "odd = []\n",
    "for j in a:\n",
    "    if (j%2==0):\n",
    "        even.append(j)\n",
    "    else:\n",
    "        odd.append(j)\n",
    "print('The even list', even)\n",
    "print('The odd list', odd)"
   ]
  },
  {
   "cell_type": "markdown",
   "metadata": {},
   "source": [
    "5. Python Program to Find Average of a List"
   ]
  },
  {
   "cell_type": "code",
   "execution_count": 2,
   "metadata": {},
   "outputs": [
    {
     "name": "stdout",
     "output_type": "stream",
     "text": [
      "Enter the number of elements to be inserted: 5\n",
      "Enter element: 1\n",
      "Enter element: 2\n",
      "Enter element: 5\n",
      "Enter element: 4\n",
      "Enter element: 3\n",
      "Thr average of elements in the list:  3.0\n"
     ]
    }
   ],
   "source": [
    "n = int(input(\"Enter the number of elements to be inserted: \"))\n",
    "a=[]\n",
    "for i in range(0, n):\n",
    "    elem = int(input('Enter element: '))\n",
    "    a.append(elem)\n",
    "avg = sum(a)/n\n",
    "print('Thr average of elements in the list: ', round(avg, 2))"
   ]
  },
  {
   "cell_type": "markdown",
   "metadata": {},
   "source": [
    "6. Python Program to Print Sum of Negative Numbers, Positive Even Numbers and Positive Odd numbers in a List"
   ]
  },
  {
   "cell_type": "code",
   "execution_count": 3,
   "metadata": {},
   "outputs": [
    {
     "name": "stdout",
     "output_type": "stream",
     "text": [
      "Enter the number of elements to be in the list: 5\n",
      "Element: 2\n",
      "Element: -2\n",
      "Element: 2\n",
      "Element: 2\n",
      "Element: 2\n",
      "Sum of positive even numbers 8\n",
      "Sum of positive odd numbers 0\n",
      "Sum od negative numbers -2\n"
     ]
    }
   ],
   "source": [
    "n = int(input('Enter the number of elements to be in the list: '))\n",
    "b = []\n",
    "for i in range(0, n):\n",
    "    a = int(input('Element: '))\n",
    "    b.append(a)\n",
    "sum1 = 0\n",
    "sum2 = 0\n",
    "sum3 = 0\n",
    "for j in b:\n",
    "    if (j>0):\n",
    "        if(j%2==0):\n",
    "            sum1 = sum1+j\n",
    "        else:\n",
    "            sum2 = sum2 + j\n",
    "    else: \n",
    "        sum3 = sum3 + j\n",
    "print('Sum of positive even numbers', sum1)\n",
    "print('Sum of positive odd numbers', sum2)\n",
    "print('Sum od negative numbers', sum3)"
   ]
  },
  {
   "cell_type": "markdown",
   "metadata": {},
   "source": [
    "7. Python Program to Count Occurrences of Element in List"
   ]
  },
  {
   "cell_type": "code",
   "execution_count": 4,
   "metadata": {},
   "outputs": [
    {
     "name": "stdout",
     "output_type": "stream",
     "text": [
      "Enter number of elements: 5\n",
      "Enter elements: 2\n",
      "Enter elements: 3\n",
      "Enter elements: 2\n",
      "Enter elements: 6\n",
      "Enter elements: 2\n",
      "Enter the number to be counted: 2\n",
      "Number of time 2 appears is  3\n"
     ]
    }
   ],
   "source": [
    "a = []\n",
    "n = int(input('Enter number of elements: '))\n",
    "for i in range(1, n+1):\n",
    "    b = int(input('Enter elements: '))\n",
    "    a.append(b)\n",
    "k = 0\n",
    "num = int(input('Enter the number to be counted: '))\n",
    "for j in a:\n",
    "    if(j==num):\n",
    "        k=k+1\n",
    "print('Number of time', num, 'appears is ', k)"
   ]
  },
  {
   "cell_type": "markdown",
   "metadata": {},
   "source": [
    "8. Python Program to Find the Sum of Elements in a List using Recursion"
   ]
  },
  {
   "cell_type": "code",
   "execution_count": 6,
   "metadata": {},
   "outputs": [
    {
     "name": "stdout",
     "output_type": "stream",
     "text": [
      "Enter number of elements: 5\n",
      "Enter element: 1\n",
      "Enter element: 2\n",
      "Enter element: 3\n",
      "Enter element: 4\n",
      "Enter element: 5\n",
      "The list is\n",
      "[1, 2, 3, 4, 5]\n",
      "Sum of items in list: \n",
      "15\n"
     ]
    }
   ],
   "source": [
    "def sum_arr(arr, size):\n",
    "    if(size == 0):\n",
    "        return 0\n",
    "    else:\n",
    "        return arr[size-1]+sum_arr(arr, size-1)\n",
    "n=int(input('Enter number of elements: '))\n",
    "a = []\n",
    "for i in range(0, n):\n",
    "    element=int(input('Enter element: '))\n",
    "    a.append(element)\n",
    "print('The list is')\n",
    "print(a)\n",
    "print('Sum of items in list: ')\n",
    "b = sum_arr(a, n)\n",
    "print(b)"
   ]
  },
  {
   "cell_type": "markdown",
   "metadata": {},
   "source": [
    "9. Python Program to Find the Length of a List using Recursion"
   ]
  },
  {
   "cell_type": "code",
   "execution_count": 8,
   "metadata": {},
   "outputs": [
    {
     "name": "stdout",
     "output_type": "stream",
     "text": [
      "The length of string is: \n",
      "[1, 2, 3, 4, 5]\n"
     ]
    }
   ],
   "source": [
    "def length(lst):\n",
    "    if not lst:\n",
    "        return 0\n",
    "    return 1 + length(lst[1::2]) + length(lst[2::2])\n",
    "a = [1, 2, 3, 4, 5]\n",
    "print('The length of string is: ')\n",
    "print(a)"
   ]
  },
  {
   "cell_type": "markdown",
   "metadata": {},
   "source": [
    "10. Python Program to Merge Two Lists and Sort it"
   ]
  },
  {
   "cell_type": "code",
   "execution_count": 9,
   "metadata": {},
   "outputs": [
    {
     "name": "stdout",
     "output_type": "stream",
     "text": [
      "Enter number of elements: 5\n",
      "Enter element: 1\n",
      "Enter element: 2\n",
      "Enter element: 3\n",
      "Enter element: 8\n",
      "Enter element: 4\n",
      "Enter number of elements: 2\n",
      "Enter element: 6\n",
      "Enter element: 3\n",
      "Sorted list is [1, 2, 3, 3, 4, 6, 8]\n"
     ]
    }
   ],
   "source": [
    "a = []\n",
    "c = []\n",
    "n1 = int(input('Enter number of elements: '))\n",
    "for i in range(1, n1+1):\n",
    "    b = int(input('Enter element: '))\n",
    "    a.append(b)\n",
    "n2 = int(input('Enter number of elements: '))\n",
    "for i in range(1, n2+1):\n",
    "    d = int(input('Enter element: '))\n",
    "    c.append(d)\n",
    "new = a+c\n",
    "new.sort()\n",
    "print('Sorted list is', new)"
   ]
  },
  {
   "cell_type": "markdown",
   "metadata": {},
   "source": [
    "11. Python Program to Remove Duplicates from a List"
   ]
  },
  {
   "cell_type": "code",
   "execution_count": 14,
   "metadata": {},
   "outputs": [
    {
     "name": "stdout",
     "output_type": "stream",
     "text": [
      "Enter number of elements: 5\n",
      "Enter element: 1:1\n",
      "Enter element: 2:2\n",
      "Enter element: 3:2\n",
      "Enter element: 4:3\n",
      "Enter element: 5:3\n",
      "Non-duplicate items: \n",
      "[1, 2, 3]\n"
     ]
    }
   ],
   "source": [
    "a = []\n",
    "n = int(input('Enter number of elements: '))\n",
    "for x in range(0, n):\n",
    "    element = int(input('Enter element: ' + str(x+1) + \":\"))\n",
    "    a.append(element)\n",
    "b = set()\n",
    "unique = []\n",
    "for x in a:\n",
    "    if x not in b:\n",
    "        unique.append(x)\n",
    "        b.add(x)\n",
    "print('Non-duplicate items: ')\n",
    "print(unique)"
   ]
  },
  {
   "cell_type": "markdown",
   "metadata": {},
   "source": [
    "12. Python Program to Swap the First and Last Element in a List"
   ]
  },
  {
   "cell_type": "code",
   "execution_count": 16,
   "metadata": {},
   "outputs": [
    {
     "name": "stdout",
     "output_type": "stream",
     "text": [
      "Enter number of elements in list: 5\n",
      "Enter element1:2\n",
      "Enter element2:1\n",
      "Enter element3:3\n",
      "Enter element4:4\n",
      "Enter element5:6\n",
      "New List is: \n",
      "[6, 1, 3, 4, 2]\n"
     ]
    }
   ],
   "source": [
    "a = []\n",
    "n = int(input('Enter number of elements in list: '))\n",
    "for x in range(0, n):\n",
    "    element = int(input('Enter element' + str(x+1) + \":\"))\n",
    "    a.append(element)\n",
    "temp = a[0]\n",
    "a[0] = a[n-1]\n",
    "a[n-1] = temp\n",
    "print('New List is: ')\n",
    "print(a)"
   ]
  },
  {
   "cell_type": "markdown",
   "metadata": {},
   "source": [
    "13. Python Program to Sort a List According to the Second Element in Sublist"
   ]
  },
  {
   "cell_type": "code",
   "execution_count": 18,
   "metadata": {},
   "outputs": [
    {
     "name": "stdout",
     "output_type": "stream",
     "text": [
      "[['B', 21], ['C', 26], ['A', 34]]\n"
     ]
    }
   ],
   "source": [
    "a = [['A', 34], ['B', 21], ['C', 26]]\n",
    "for i in range(0, len(a)):\n",
    "    for j in range(0, len(a)-i-1):\n",
    "        if(a[j][1]>a[j+1][1]):\n",
    "            temp=a[j]\n",
    "            a[j]=a[j+1]\n",
    "            a[j+1]=temp\n",
    "print(a)"
   ]
  },
  {
   "cell_type": "markdown",
   "metadata": {},
   "source": [
    "14. Python Program to Return the Length of the Longest Word from the List of Words"
   ]
  },
  {
   "cell_type": "code",
   "execution_count": 23,
   "metadata": {},
   "outputs": [
    {
     "name": "stdout",
     "output_type": "stream",
     "text": [
      "Enter the number of elements in the list: 5\n",
      "Enter element1:apple\n",
      "Enter element2:banana\n",
      "Enter element3:cherry\n",
      "Enter element4:jackfruit\n",
      "Enter element5:strawberry\n",
      "The word with the longest length is: \n",
      "strawberry\n"
     ]
    }
   ],
   "source": [
    "a = []\n",
    "n = int(input('Enter the number of elements in the list: '))\n",
    "for x in range(0, n):\n",
    "    element = input('Enter element'+ str(x+1) + \":\")\n",
    "    a.append(element)\n",
    "max1 = len(a[0])\n",
    "temp = a[0]\n",
    "for i in a:\n",
    "    if(len(i)>max1):\n",
    "        max1=len(i)\n",
    "        temp=i\n",
    "print(\"The word with the longest length is: \")\n",
    "print(temp)"
   ]
  },
  {
   "cell_type": "markdown",
   "metadata": {},
   "source": [
    "15. Python Program to Find the Number Occurring Odd Number of Times in a List"
   ]
  },
  {
   "cell_type": "code",
   "execution_count": null,
   "metadata": {},
   "outputs": [],
   "source": [
    "def find_odd_occuring(list):\n",
    "    \"\"\"Return the element that occurs odd numbers of times in list\n",
    "    \n",
    "    list is a list in which all elements except one element occurs an even number of times.\"\"\"\n",
    "    \n",
    "    ans = 0\n",
    "    \n",
    "    for element in list:\n",
    "        ans ^= element\n",
    "        \n",
    "        return ans\n",
    "list = input('Enter the list: ').split()\n",
    "list = [int(i) for i in list]\n",
    "ans = find_odd_occuring(list)\n",
    "print('The element that occurs odd number of times', ans)"
   ]
  },
  {
   "cell_type": "markdown",
   "metadata": {},
   "source": [
    "16.Python Program to Generate Random Numbers from 1 to 20 and Append Them to the List"
   ]
  },
  {
   "cell_type": "code",
   "execution_count": 1,
   "metadata": {},
   "outputs": [
    {
     "name": "stdout",
     "output_type": "stream",
     "text": [
      "Enter number of elements: 5\n",
      "Randomwised list is:  [18, 17, 9, 11, 18]\n"
     ]
    }
   ],
   "source": [
    "import random\n",
    "a=[]\n",
    "n=int(input('Enter number of elements: '))\n",
    "for j in range(n):\n",
    "    a.append(random.randint(1, 20))\n",
    "print('Randomwised list is: ', a)"
   ]
  },
  {
   "cell_type": "markdown",
   "metadata": {},
   "source": [
    "17. Python Program to Remove the ith Occurrence of the Given Word in a List"
   ]
  },
  {
   "cell_type": "code",
   "execution_count": 2,
   "metadata": {},
   "outputs": [
    {
     "name": "stdout",
     "output_type": "stream",
     "text": [
      "Enter the number of elements in the list: 5\n",
      "Enter element1:apple\n",
      "Enter element2:apple\n",
      "Enter element3:cherry\n",
      "Enter element4:banana\n",
      "Enter element5:cherry\n",
      "['apple', 'apple', 'cherry', 'banana', 'cherry']\n",
      "Enter word to remove: 2\n",
      "Enter the occurence to remove: 2\n",
      "Item not found\n"
     ]
    }
   ],
   "source": [
    "a = []\n",
    "n = int(input(\"Enter the number of elements in the list: \"))\n",
    "for x in range(0, n):\n",
    "    element = input(\"Enter element\" + str(x+1) + \":\")\n",
    "    a.append(element)\n",
    "print(a)\n",
    "c = []\n",
    "count = 0\n",
    "b = input('Enter word to remove: ')\n",
    "n = int(input('Enter the occurence to remove: '))\n",
    "for i in a:\n",
    "    if(i == b):\n",
    "        count = count + 1\n",
    "        if(count!=n):\n",
    "            c.append(i)\n",
    "    else:\n",
    "        c.append(i)\n",
    "if(count==0):\n",
    "    print(\"Item not found\")\n",
    "else:\n",
    "    print(\"The number of repetitions is: \", count)\n",
    "    print(\"Updated list is: \", c)\n",
    "    print(\"The didtinct element are\", set(a))"
   ]
  },
  {
   "cell_type": "markdown",
   "metadata": {},
   "source": [
    "18. Python Program to Find the Cumulative Sum of a List"
   ]
  },
  {
   "cell_type": "code",
   "execution_count": 3,
   "metadata": {},
   "outputs": [
    {
     "name": "stdout",
     "output_type": "stream",
     "text": [
      "Enter the number of elements in the list: 5\n",
      "Enter element1:1\n",
      "Enter element2:2\n",
      "Enter element3:3\n",
      "Enter element4:4\n",
      "Enter element5:5\n",
      "The original list is:  [1, 2, 3, 4, 5]\n",
      "The new list is  [1, 3, 6, 10, 15]\n"
     ]
    }
   ],
   "source": [
    "a = []\n",
    "n = int(input('Enter the number of elements in the list: '))\n",
    "for x in range(0, n):\n",
    "    element = int(input(\"Enter element\" + str(x+1) + \":\"))\n",
    "    a.append(element)\n",
    "b=[sum(a[0:x+1]) for x in range(0, len(a))]\n",
    "print('The original list is: ', a)\n",
    "print('The new list is ', b)"
   ]
  },
  {
   "cell_type": "markdown",
   "metadata": {},
   "source": [
    "19. Python Program to Find the Union of Two Lists"
   ]
  },
  {
   "cell_type": "code",
   "execution_count": 5,
   "metadata": {},
   "outputs": [
    {
     "name": "stdout",
     "output_type": "stream",
     "text": [
      "Enter size of list1: 3\n",
      "Enter any number: 1\n",
      "Enter any number: 2\n",
      "Enter any number: 3\n",
      "Enter size of list2: 2\n",
      "Enter any number: 4\n",
      "Enter any number: 5\n",
      "The union of two list is:  [1, 2, 3, 4, 5]\n"
     ]
    }
   ],
   "source": [
    "l1 = []\n",
    "num1 = int(input('Enter size of list1: '))\n",
    "for n in range(num1):\n",
    "    numbers1 = int(input('Enter any number: '))\n",
    "    l1.append(numbers1)\n",
    "    \n",
    "l2 = []\n",
    "num2 = int(input('Enter size of list2: '))\n",
    "for n in range(num2):\n",
    "    numbers2 = int(input('Enter any number: '))\n",
    "    l2.append(numbers2)\n",
    "    \n",
    "union = list(set().union(l1, l2))\n",
    "\n",
    "print('The union of two list is: ', union)"
   ]
  },
  {
   "cell_type": "markdown",
   "metadata": {},
   "source": [
    "20.Python Program to Find the Intersection of Two Lists"
   ]
  },
  {
   "cell_type": "code",
   "execution_count": 9,
   "metadata": {},
   "outputs": [
    {
     "name": "stdout",
     "output_type": "stream",
     "text": [
      "Enter number of elements for list1: 2\n",
      "Enter number of elements for list2: 3\n",
      "For list1:\n",
      "Enter element1:1\n",
      "Enter element2:2\n",
      "For list2:\n",
      "Enter element:1:2\n",
      "Enter element:2:2\n",
      "Enter element:3:4\n",
      "The intersection is \n",
      "[2]\n"
     ]
    }
   ],
   "source": [
    "def intersection(a, b):\n",
    "    return list(set(a)&set(b))\n",
    "\n",
    "def main():\n",
    "    alist = []\n",
    "    blist = []\n",
    "    n1 = int(input('Enter number of elements for list1: '))\n",
    "    n2 = int(input('Enter number of elements for list2: '))\n",
    "    print(\"For list1:\")\n",
    "    for x in range(0, n1):\n",
    "        element=int(input('Enter element' + str(x+1) + \":\"))\n",
    "        alist.append(element)\n",
    "    print(\"For list2:\")\n",
    "    for x in range(0, n2):\n",
    "        element=int(input('Enter element:' +str(x+1) + \":\"))\n",
    "        blist.append(element)\n",
    "    print(\"The intersection is \")\n",
    "    print(intersection(alist, blist))\n",
    "main()"
   ]
  },
  {
   "cell_type": "markdown",
   "metadata": {},
   "source": [
    "21. Python Program to Flatten a List without using Recursion"
   ]
  },
  {
   "cell_type": "code",
   "execution_count": 11,
   "metadata": {},
   "outputs": [
    {
     "name": "stdout",
     "output_type": "stream",
     "text": [
      "[1, 2, 3, 4, 5]\n"
     ]
    }
   ],
   "source": [
    "a = [[1, [[2]], [[[3]]], [[4], 5]]]\n",
    "flatten=lambda l: sum(map(flatten, l), []) if isinstance(l, list) else [l]\n",
    "print(flatten(a))"
   ]
  },
  {
   "cell_type": "markdown",
   "metadata": {},
   "source": [
    "22. Python Program to Find the Total Sum of a Nested List Using Recursion"
   ]
  },
  {
   "cell_type": "code",
   "execution_count": 12,
   "metadata": {},
   "outputs": [
    {
     "name": "stdout",
     "output_type": "stream",
     "text": [
      "Sum is:  10\n"
     ]
    }
   ],
   "source": [
    "def sum1(lst):\n",
    "    total = 0\n",
    "    for element in lst:\n",
    "        if (type(element) == type([])):\n",
    "            total = total + sum1(element)\n",
    "        else:\n",
    "            total = total + element\n",
    "    return total\n",
    "print(\"Sum is: \", sum1([[1,2], [3,4]]))"
   ]
  },
  {
   "cell_type": "markdown",
   "metadata": {},
   "source": [
    "23. Python Program to Flatten a Nested List using Recursion"
   ]
  },
  {
   "cell_type": "code",
   "execution_count": 14,
   "metadata": {},
   "outputs": [
    {
     "name": "stdout",
     "output_type": "stream",
     "text": [
      "Flatten list is:  [1, 2, 3, 4]\n"
     ]
    }
   ],
   "source": [
    "def flatten(S):\n",
    "    if S == []:\n",
    "        return S\n",
    "    if isinstance(S[0], list):\n",
    "        return flatten(S[0] + flatten(S[1:]))\n",
    "    return S[:1] + flatten(S[1:])\n",
    "s = [[1, 2], [3, 4]]\n",
    "print('Flatten list is: ', flatten(s))"
   ]
  },
  {
   "cell_type": "code",
   "execution_count": null,
   "metadata": {},
   "outputs": [],
   "source": []
  },
  {
   "cell_type": "code",
   "execution_count": null,
   "metadata": {},
   "outputs": [],
   "source": []
  },
  {
   "cell_type": "code",
   "execution_count": null,
   "metadata": {},
   "outputs": [],
   "source": []
  },
  {
   "cell_type": "code",
   "execution_count": null,
   "metadata": {},
   "outputs": [],
   "source": []
  }
 ],
 "metadata": {
  "kernelspec": {
   "display_name": "Python 3",
   "language": "python",
   "name": "python3"
  },
  "language_info": {
   "codemirror_mode": {
    "name": "ipython",
    "version": 3
   },
   "file_extension": ".py",
   "mimetype": "text/x-python",
   "name": "python",
   "nbconvert_exporter": "python",
   "pygments_lexer": "ipython3",
   "version": "3.8.5"
  }
 },
 "nbformat": 4,
 "nbformat_minor": 4
}
