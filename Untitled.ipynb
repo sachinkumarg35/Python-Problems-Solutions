{
 "cells": [
  {
   "cell_type": "markdown",
   "metadata": {},
   "source": [
    "# Python Programs"
   ]
  },
  {
   "cell_type": "markdown",
   "metadata": {},
   "source": [
    "1. Python Program to Check Whether a Given Number is Even or Odd using Recursion"
   ]
  },
  {
   "cell_type": "code",
   "execution_count": 2,
   "metadata": {},
   "outputs": [
    {
     "name": "stdout",
     "output_type": "stream",
     "text": [
      "Enter a number:526\n",
      "number is even!\n"
     ]
    }
   ],
   "source": [
    "def check(n):\n",
    "    if (n < 2):\n",
    "        return (n % 2 == 0)\n",
    "    return (check(n-2))\n",
    "n=int(input('Enter a number:'))\n",
    "if (check(n)==True):\n",
    "    print(\"number is even!\")\n",
    "else:\n",
    "    print(\"number is odd!\")"
   ]
  },
  {
   "cell_type": "markdown",
   "metadata": {},
   "source": [
    "2. Python Program to Check Whether a Number is Positive or Negative"
   ]
  },
  {
   "cell_type": "code",
   "execution_count": 5,
   "metadata": {},
   "outputs": [
    {
     "name": "stdout",
     "output_type": "stream",
     "text": [
      "Enter a number:-5\n",
      "number is negative\n"
     ]
    }
   ],
   "source": [
    "n=int(input('Enter a number:'))\n",
    "if(n>0):\n",
    "    print('number is positive')\n",
    "else:\n",
    "    print('number is negative')"
   ]
  },
  {
   "cell_type": "markdown",
   "metadata": {},
   "source": [
    "3. Python Program to Print All Odd Numbers in a Range"
   ]
  },
  {
   "cell_type": "code",
   "execution_count": 8,
   "metadata": {},
   "outputs": [
    {
     "name": "stdout",
     "output_type": "stream",
     "text": [
      "Enter the lower limit for the range:0\n",
      "Enter the upper limit for the range:10\n",
      "1\n",
      "3\n",
      "5\n",
      "7\n",
      "9\n"
     ]
    }
   ],
   "source": [
    "lower = int(input('Enter the lower limit for the range:'))\n",
    "upper = int(input('Enter the upper limit for the range:'))\n",
    "for i in range(lower, upper+1):\n",
    "    if(i%2!=0):\n",
    "        print(i)"
   ]
  },
  {
   "cell_type": "markdown",
   "metadata": {},
   "source": [
    "4. Python Program to Check if a Number is a Palindrome"
   ]
  },
  {
   "cell_type": "code",
   "execution_count": 18,
   "metadata": {},
   "outputs": [
    {
     "name": "stdout",
     "output_type": "stream",
     "text": [
      "Enter a number:28\n",
      "The number is not a palindrome\n"
     ]
    }
   ],
   "source": [
    "n = int(input('Enter a number:'))\n",
    "temp = n\n",
    "rev = 0\n",
    "while(n>0):\n",
    "    dig=n%10\n",
    "    rev=rev*10+dig\n",
    "    n=n//10\n",
    "if(temp==rev):\n",
    "    print('The number is palindrome')\n",
    "else:\n",
    "    print('The number is not a palindrome')"
   ]
  },
  {
   "cell_type": "markdown",
   "metadata": {},
   "source": [
    "5. Python Program to Reverse a Number"
   ]
  },
  {
   "cell_type": "code",
   "execution_count": 19,
   "metadata": {},
   "outputs": [
    {
     "name": "stdout",
     "output_type": "stream",
     "text": [
      "Enter a number:542\n",
      "Reverse of the number 245\n"
     ]
    }
   ],
   "source": [
    "n = int(input('Enter a number:'))\n",
    "rev = 0\n",
    "while(n>0):\n",
    "    dig=n%10\n",
    "    rev = rev*10+dig\n",
    "    n=n//10\n",
    "print('Reverse of the number', rev)"
   ]
  },
  {
   "cell_type": "markdown",
   "metadata": {},
   "source": [
    "6. Python Program to Print All Integers that Aren’t Divisible by Either 2 or 3"
   ]
  },
  {
   "cell_type": "code",
   "execution_count": 29,
   "metadata": {},
   "outputs": [
    {
     "name": "stdout",
     "output_type": "stream",
     "text": [
      "1\n",
      "5\n",
      "7\n",
      "11\n",
      "13\n",
      "17\n",
      "19\n",
      "23\n",
      "25\n",
      "29\n",
      "31\n",
      "35\n",
      "37\n",
      "41\n",
      "43\n",
      "47\n",
      "49\n"
     ]
    }
   ],
   "source": [
    "for i in range(0, 51):\n",
    "    if(i%2!=0 and i%3!=0):\n",
    "        print(i)"
   ]
  },
  {
   "cell_type": "markdown",
   "metadata": {},
   "source": [
    "7. Python Program to Find Numbers which are Divisible by 7 and Multiple of 5 in a Given Range"
   ]
  },
  {
   "cell_type": "code",
   "execution_count": 28,
   "metadata": {},
   "outputs": [
    {
     "name": "stdout",
     "output_type": "stream",
     "text": [
      "Enter a lower range5\n",
      "Enter a upper range100\n",
      "35\n",
      "70\n"
     ]
    }
   ],
   "source": [
    "lower = int(input('Enter a lower range'))\n",
    "upper = int(input('Enter a upper range'))\n",
    "for i in range(lower, upper+1):\n",
    "    if(i%7==0 and i%5==0):\n",
    "        print(i)"
   ]
  },
  {
   "cell_type": "markdown",
   "metadata": {},
   "source": [
    "8. Python Program to Print All Numbers in a Range Divisible by a Given Number"
   ]
  },
  {
   "cell_type": "code",
   "execution_count": 30,
   "metadata": {},
   "outputs": [
    {
     "name": "stdout",
     "output_type": "stream",
     "text": [
      "Enter the lower range:1\n",
      "Enter the upper range:20\n",
      "Enter the number to be divided by:2\n",
      "2\n",
      "4\n",
      "6\n",
      "8\n",
      "10\n",
      "12\n",
      "14\n",
      "16\n",
      "18\n",
      "20\n"
     ]
    }
   ],
   "source": [
    "lower = int(input('Enter the lower range:'))\n",
    "upper = int(input('Enter the upper range:'))\n",
    "n = int(input('Enter the number to be divided by:'))\n",
    "for i in range(lower, upper+1):\n",
    "    if(i%n==0):\n",
    "        print(i)"
   ]
  },
  {
   "cell_type": "markdown",
   "metadata": {},
   "source": [
    "9. Sum of Digits Program in Python"
   ]
  },
  {
   "cell_type": "code",
   "execution_count": 31,
   "metadata": {},
   "outputs": [
    {
     "name": "stdout",
     "output_type": "stream",
     "text": [
      "Enter a number123\n",
      "The total sum of the digits is: 6\n"
     ]
    }
   ],
   "source": [
    "n = int(input('Enter a number'))\n",
    "tot = 0\n",
    "while(n>0):\n",
    "    dig=n%10\n",
    "    tot = tot+dig\n",
    "    n=n//10\n",
    "print(\"The total sum of the digits is:\", tot)"
   ]
  },
  {
   "cell_type": "markdown",
   "metadata": {},
   "source": [
    "10. Sum of Digit of a Number using Recursion in Python"
   ]
  },
  {
   "cell_type": "code",
   "execution_count": 34,
   "metadata": {},
   "outputs": [
    {
     "name": "stdout",
     "output_type": "stream",
     "text": [
      "Enter a number:125\n",
      "8\n"
     ]
    }
   ],
   "source": [
    "l = []\n",
    "def sum_digits(b):\n",
    "    if(b==0):\n",
    "        return 1\n",
    "    dig=b%10\n",
    "    l.append(dig)\n",
    "    sum_digits(b//10)\n",
    "n = int(input('Enter a number:'))\n",
    "sum_digits(n)\n",
    "print(sum(l))"
   ]
  },
  {
   "cell_type": "markdown",
   "metadata": {},
   "source": [
    "11. Sum of Digit of a Number Without Recursion in Python"
   ]
  },
  {
   "cell_type": "code",
   "execution_count": 35,
   "metadata": {},
   "outputs": [
    {
     "name": "stdout",
     "output_type": "stream",
     "text": [
      "Enter a number:245\n",
      "Sum is:\n",
      "11\n"
     ]
    }
   ],
   "source": [
    "l = []\n",
    "b = int(input('Enter a number:'))\n",
    "while(b>0):\n",
    "    dig=b%10\n",
    "    l.append(dig)\n",
    "    b=b//10\n",
    "print('Sum is:')\n",
    "print(sum(l))"
   ]
  },
  {
   "cell_type": "markdown",
   "metadata": {},
   "source": [
    "12.Python Program to Count the Number of Digits in a Number"
   ]
  },
  {
   "cell_type": "code",
   "execution_count": 36,
   "metadata": {},
   "outputs": [
    {
     "name": "stdout",
     "output_type": "stream",
     "text": [
      "Enter a number:123456\n",
      "The number of digits in the number are 6\n"
     ]
    }
   ],
   "source": [
    "n=int(input('Enter a number:'))\n",
    "count = 0\n",
    "while(n>0):\n",
    "    count=count+1\n",
    "    n=n//10\n",
    "print(\"The number of digits in the number are\", count)"
   ]
  },
  {
   "cell_type": "markdown",
   "metadata": {},
   "source": [
    "13.Python Program to Find All the Divisors of an Integer"
   ]
  },
  {
   "cell_type": "code",
   "execution_count": 38,
   "metadata": {},
   "outputs": [
    {
     "name": "stdout",
     "output_type": "stream",
     "text": [
      "Enter an integer:20\n",
      "The divisors of the number are:\n",
      "1\n",
      "2\n",
      "4\n",
      "5\n",
      "10\n",
      "20\n"
     ]
    }
   ],
   "source": [
    "n=int(input('Enter an integer:'))\n",
    "print('The divisors of the number are:')\n",
    "for i in range(1, n+1):\n",
    "    if(n%i==0):\n",
    "        print(i)"
   ]
  },
  {
   "cell_type": "markdown",
   "metadata": {},
   "source": [
    "14.Python Program to Find the Smallest Divisor of an Integer"
   ]
  },
  {
   "cell_type": "code",
   "execution_count": 40,
   "metadata": {},
   "outputs": [
    {
     "name": "stdout",
     "output_type": "stream",
     "text": [
      "Enter an integer:20\n",
      "The smallest divisor is: 2\n"
     ]
    }
   ],
   "source": [
    "n=int(input('Enter an integer:'))\n",
    "a=[]\n",
    "for i in range(2, n+1):\n",
    "    if(n%i==0):\n",
    "        a.append(i)\n",
    "a.sort()\n",
    "print('The smallest divisor is:',a[0])"
   ]
  },
  {
   "cell_type": "markdown",
   "metadata": {},
   "source": [
    "15.Python Program to Print Binary Equivalent of an Integer using Recursion."
   ]
  },
  {
   "cell_type": "code",
   "execution_count": 42,
   "metadata": {},
   "outputs": [
    {
     "name": "stdout",
     "output_type": "stream",
     "text": [
      "Enter a number50\n",
      "Binary Equivalent\n",
      "1\n",
      "1\n",
      "0\n",
      "0\n",
      "1\n",
      "0\n"
     ]
    }
   ],
   "source": [
    "l = []\n",
    "def convert(b):\n",
    "    if(b==0):\n",
    "        return 1\n",
    "    dig = b%2\n",
    "    l.append(dig)\n",
    "    convert(b//2)\n",
    "a = int(input('Enter a number'))\n",
    "convert(a)\n",
    "l.reverse()\n",
    "print(\"Binary Equivalent\")\n",
    "for i in l:\n",
    "    print (i)"
   ]
  },
  {
   "cell_type": "markdown",
   "metadata": {},
   "source": [
    "16.Python Program to Print Binary Equivalent of a Number without Using Recursion"
   ]
  },
  {
   "cell_type": "code",
   "execution_count": 43,
   "metadata": {},
   "outputs": [
    {
     "name": "stdout",
     "output_type": "stream",
     "text": [
      "Enter a number:20\n",
      "Binary Equivalent is: \n",
      "1 0 1 0 0 "
     ]
    }
   ],
   "source": [
    "n=int(input('Enter a number:'))\n",
    "a = []\n",
    "while(n > 0):\n",
    "    dig=n%2\n",
    "    a.append(dig)\n",
    "    n=n//2\n",
    "a.reverse()\n",
    "print('Binary Equivalent is: ')\n",
    "for i in a:\n",
    "    print(i, end=\" \")"
   ]
  },
  {
   "cell_type": "markdown",
   "metadata": {},
   "source": [
    "17.Python Program to Print Table of a Given Number"
   ]
  },
  {
   "cell_type": "code",
   "execution_count": 45,
   "metadata": {},
   "outputs": [
    {
     "name": "stdout",
     "output_type": "stream",
     "text": [
      "Enter the number to print the tables for: 2\n",
      "2 * 1 = 2\n",
      "2 * 2 = 4\n",
      "2 * 3 = 6\n",
      "2 * 4 = 8\n",
      "2 * 5 = 10\n",
      "2 * 6 = 12\n",
      "2 * 7 = 14\n",
      "2 * 8 = 16\n",
      "2 * 9 = 18\n",
      "2 * 10 = 20\n"
     ]
    }
   ],
   "source": [
    "n=int(input('Enter the number to print the tables for: '))\n",
    "for i in range(1, 11):\n",
    "    print(n,'*',i,'=',n*i)"
   ]
  },
  {
   "cell_type": "markdown",
   "metadata": {},
   "source": [
    "18.Python Program to Calculate Grade of a Student"
   ]
  },
  {
   "cell_type": "code",
   "execution_count": 46,
   "metadata": {},
   "outputs": [
    {
     "name": "stdout",
     "output_type": "stream",
     "text": [
      "marks of subject 1:65\n",
      "marks of subject 2:54\n",
      "marks of subject 3:45\n",
      "marks of subject 4:76\n",
      "marks of subject 5:37\n",
      "Grade: B\n"
     ]
    }
   ],
   "source": [
    "sub1=int(input('marks of subject 1:'))\n",
    "sub2=int(input('marks of subject 2:'))\n",
    "sub3=int(input('marks of subject 3:'))\n",
    "sub4=int(input('marks of subject 4:'))\n",
    "sub5=int(input('marks of subject 5:'))\n",
    "avg = (sub1+sub2+sub3+sub4+sub5)/5\n",
    "if(avg>=90):\n",
    "    print('Grade: A')\n",
    "elif(avg<=80 and avg<90):\n",
    "    print('Grade: B')\n",
    "elif(avg>=70 and avg<80):\n",
    "    print('Grade: C')\n",
    "elif(avg>=60 and avg<70):\n",
    "    print('Grade: D')\n",
    "else:\n",
    "    print('Grade: F')\n",
    "    "
   ]
  },
  {
   "cell_type": "markdown",
   "metadata": {},
   "source": [
    "19.Python Program to Check if a Date is Valid and Print the Incremented Date if it is"
   ]
  },
  {
   "cell_type": "code",
   "execution_count": 49,
   "metadata": {},
   "outputs": [
    {
     "name": "stdout",
     "output_type": "stream",
     "text": [
      "Enter the date:12/05/2022\n",
      "The increment date is: 13 5 2022\n"
     ]
    }
   ],
   "source": [
    "date = input('Enter the date:')\n",
    "dd,mm,yy=date.split('/')\n",
    "dd=int(dd)\n",
    "mm=int(mm)\n",
    "yy=int(yy)\n",
    "if(mm==1 or mm==3 or mm==5 or mm==7 or mm==8 or mm==10 or mm==12):\n",
    "    max1=31\n",
    "elif(mm==4 or mm==6 or mm==9 or mm==11):\n",
    "    max1==30\n",
    "elif(yy%4==0 and yy%100!=0 and yy%400==0):\n",
    "    max1==29\n",
    "else:\n",
    "    max1=28\n",
    "if(mm<1 or mm>12):\n",
    "    print('Date is invalid.')\n",
    "elif(dd<1 or dd>max1):\n",
    "    print('Date is invalid.')\n",
    "elif(dd==max1 and mm!=12):\n",
    "    dd==1\n",
    "    mm==mm+1\n",
    "    print(\"The increment date is:\",dd,mm,yy)\n",
    "elif(dd==31 and mm==12):\n",
    "    dd=1\n",
    "    mm=1\n",
    "    yy=yy+1\n",
    "    print('The increment date is:',dd,mm,yy)\n",
    "else:\n",
    "    dd=dd+1\n",
    "    print('The increment date is:',dd,mm,yy)"
   ]
  },
  {
   "cell_type": "markdown",
   "metadata": {},
   "source": [
    "20.Python Program to Check Whether a given Year is a Leap Year"
   ]
  },
  {
   "cell_type": "code",
   "execution_count": 50,
   "metadata": {},
   "outputs": [
    {
     "name": "stdout",
     "output_type": "stream",
     "text": [
      "Enter year to be checked:2014\n",
      "The year is not a leap year.\n"
     ]
    }
   ],
   "source": [
    "year = int(input('Enter year to be checked:'))\n",
    "if(year%4==0 and year%100!=0 and year%400==0):\n",
    "    print('The year is a leap year.')\n",
    "else:\n",
    "    print('The year is not a leap year.')"
   ]
  },
  {
   "cell_type": "markdown",
   "metadata": {},
   "source": [
    "21.ython Program to Convert Centimeters to Feet and Inches."
   ]
  },
  {
   "cell_type": "code",
   "execution_count": 52,
   "metadata": {},
   "outputs": [
    {
     "name": "stdout",
     "output_type": "stream",
     "text": [
      "Enter the height in centimeters:15\n",
      "The length in inches  5.91\n",
      "The length in feet  0.49\n"
     ]
    }
   ],
   "source": [
    "cm = int(input('Enter the height in centimeters:'))\n",
    "inches = 0.394*cm\n",
    "feet = 0.0328*cm\n",
    "print('The length in inches ', round(inches, 2))\n",
    "print('The length in feet ', round(feet, 2))"
   ]
  },
  {
   "cell_type": "markdown",
   "metadata": {},
   "source": [
    "22.Python Program to Read a Number n and Compute n+nn+nnn"
   ]
  },
  {
   "cell_type": "code",
   "execution_count": 53,
   "metadata": {},
   "outputs": [
    {
     "name": "stdout",
     "output_type": "stream",
     "text": [
      "Enter a number n:5\n",
      "The value is: 615\n"
     ]
    }
   ],
   "source": [
    "n=int(input(\"Enter a number n:\"))\n",
    "temp=str(n)\n",
    "t1 = temp+temp\n",
    "t2 = temp+temp+temp\n",
    "comp = n+int(t1)+int(t2)\n",
    "print('The value is:', comp)"
   ]
  },
  {
   "cell_type": "markdown",
   "metadata": {},
   "source": [
    "# Python Programs on Numbers"
   ]
  },
  {
   "cell_type": "markdown",
   "metadata": {},
   "source": [
    "1.Python Program to Find Prime Numbers in a Given Range"
   ]
  },
  {
   "cell_type": "code",
   "execution_count": 1,
   "metadata": {},
   "outputs": [
    {
     "name": "stdout",
     "output_type": "stream",
     "text": [
      "Enter upper limit:15\n",
      "2\n",
      "3\n",
      "5\n",
      "7\n",
      "11\n",
      "13\n"
     ]
    }
   ],
   "source": [
    "r = int(input('Enter upper limit:'))\n",
    "for a in range(2, r+1):\n",
    "    k=0\n",
    "    for i in range(2, a//2+1):\n",
    "        if(a%i==0):\n",
    "            k=k+1\n",
    "    if(k<=0):\n",
    "        print(a)"
   ]
  },
  {
   "cell_type": "markdown",
   "metadata": {},
   "source": [
    "2.Python Program to Check Prime Number"
   ]
  },
  {
   "cell_type": "code",
   "execution_count": 2,
   "metadata": {},
   "outputs": [
    {
     "name": "stdout",
     "output_type": "stream",
     "text": [
      "Enter number: 5\n",
      "number is prime\n"
     ]
    }
   ],
   "source": [
    "a = int(input('Enter number: '))\n",
    "k=0\n",
    "for i in range(2, a//2+1):\n",
    "    if(a%i==0):\n",
    "        k=k+1\n",
    "if(k<=0):\n",
    "    print('number is prime')\n",
    "else:\n",
    "    print('number is odd')"
   ]
  },
  {
   "cell_type": "markdown",
   "metadata": {},
   "source": [
    "3.Python Program to Check whether a Number is Prime or Not using Recursion"
   ]
  },
  {
   "cell_type": "code",
   "execution_count": 6,
   "metadata": {},
   "outputs": [
    {
     "name": "stdout",
     "output_type": "stream",
     "text": [
      "Enter number: 15\n",
      "number is prime\n"
     ]
    },
    {
     "data": {
      "text/plain": [
       "'true'"
      ]
     },
     "execution_count": 6,
     "metadata": {},
     "output_type": "execute_result"
    }
   ],
   "source": [
    "def check(n, div=None):\n",
    "    if div is None:\n",
    "        div = n-1\n",
    "    while div <= 2:\n",
    "        if n%div == 0:\n",
    "            print('number is not prime')\n",
    "            return false\n",
    "        else:\n",
    "            return check(n, div-1)\n",
    "    else:\n",
    "        print('number is prime')\n",
    "        return 'true'\n",
    "n=int(input('Enter number: '))\n",
    "check(n)"
   ]
  },
  {
   "cell_type": "markdown",
   "metadata": {},
   "source": [
    "4.Python Program to Check Whether a Given Number is Perfect Number"
   ]
  },
  {
   "cell_type": "code",
   "execution_count": 7,
   "metadata": {},
   "outputs": [
    {
     "name": "stdout",
     "output_type": "stream",
     "text": [
      "Enter any number:5\n",
      "The number is not a perfect number!\n"
     ]
    }
   ],
   "source": [
    "n=int(input('Enter any number:'))\n",
    "sum1 = 0\n",
    "for i in range(1, n):\n",
    "    if(n%i==0):\n",
    "        sum1 = sum1+i\n",
    "if(sum1 == n):\n",
    "    print('The number is a perfect number!')\n",
    "else:\n",
    "    print('The number is not a perfect number!')"
   ]
  },
  {
   "cell_type": "markdown",
   "metadata": {},
   "source": [
    "5.Python Program to Check Armstrong Number"
   ]
  },
  {
   "cell_type": "code",
   "execution_count": 8,
   "metadata": {},
   "outputs": [
    {
     "name": "stdout",
     "output_type": "stream",
     "text": [
      "Enter any number:3\n",
      "the number isn't an armstrong number.\n"
     ]
    }
   ],
   "source": [
    "n=int(input('Enter any number:'))\n",
    "a=list(map(int, str(n)))\n",
    "b=list(map(lambda x:x**3,a))\n",
    "if (sum(b)==n):\n",
    "    print(\"the number is an armstrong number.\")\n",
    "else:\n",
    "    print(\"the number isn't an armstrong number.\")"
   ]
  },
  {
   "cell_type": "markdown",
   "metadata": {},
   "source": [
    "6.Sum of First N Natural Numbers in Python"
   ]
  },
  {
   "cell_type": "code",
   "execution_count": 9,
   "metadata": {},
   "outputs": [
    {
     "name": "stdout",
     "output_type": "stream",
     "text": [
      "Enter a number15\n",
      "The sum of first n natural numbers is 120\n"
     ]
    }
   ],
   "source": [
    "n = int(input('Enter a number'))\n",
    "sum1 = 0\n",
    "while (n > 0):\n",
    "    sum1 = sum1+n\n",
    "    n=n-1\n",
    "print('The sum of first n natural numbers is', sum1)"
   ]
  },
  {
   "cell_type": "markdown",
   "metadata": {},
   "source": [
    "7.Python Program to Check if a Number is a Strong Number"
   ]
  },
  {
   "cell_type": "code",
   "execution_count": 17,
   "metadata": {},
   "outputs": [
    {
     "name": "stdout",
     "output_type": "stream",
     "text": [
      "Enter a number:175\n",
      "The number isn't a strong number.\n"
     ]
    }
   ],
   "source": [
    "sum1 =0 \n",
    "num=int(input('Enter a number:'))\n",
    "temp = num\n",
    "while(num):\n",
    "    i=1\n",
    "    f=1\n",
    "    r=num%10\n",
    "    while(i<=r):\n",
    "        f=f*i\n",
    "        i=i+1\n",
    "    sum1=sum1+f\n",
    "    num=num//10\n",
    "if(sum1==temp):\n",
    "    print('The number is a strong number.')\n",
    "else:\n",
    "    print(\"The number isn't a strong number.\")"
   ]
  },
  {
   "cell_type": "markdown",
   "metadata": {},
   "source": [
    "8.Python Program to Print Numbers in a Range Without using Loops"
   ]
  },
  {
   "cell_type": "code",
   "execution_count": 19,
   "metadata": {},
   "outputs": [
    {
     "name": "stdout",
     "output_type": "stream",
     "text": [
      "Enter a number15\n",
      "1\n",
      "2\n",
      "3\n",
      "4\n",
      "5\n",
      "6\n",
      "7\n",
      "8\n",
      "9\n",
      "10\n",
      "11\n",
      "12\n",
      "13\n",
      "14\n",
      "15\n"
     ]
    }
   ],
   "source": [
    "def printno(upper):\n",
    "    if(upper>0):\n",
    "        printno(upper-1)\n",
    "        print(upper)\n",
    "upper = int(input('Enter a number'))\n",
    "printno(upper)"
   ]
  },
  {
   "cell_type": "markdown",
   "metadata": {},
   "source": [
    "9.Python Program to Print the Natural Numbers Summation Pattern."
   ]
  },
  {
   "cell_type": "code",
   "execution_count": 20,
   "metadata": {},
   "outputs": [
    {
     "name": "stdout",
     "output_type": "stream",
     "text": [
      "Enter a number:15\n",
      "1 = 1\n",
      "1 + 2 = 3\n",
      "1 + 2 + 3 = 6\n",
      "1 + 2 + 3 + 4 = 10\n",
      "1 + 2 + 3 + 4 + 5 = 15\n",
      "1 + 2 + 3 + 4 + 5 + 6 = 21\n",
      "1 + 2 + 3 + 4 + 5 + 6 + 7 = 28\n",
      "1 + 2 + 3 + 4 + 5 + 6 + 7 + 8 = 36\n",
      "1 + 2 + 3 + 4 + 5 + 6 + 7 + 8 + 9 = 45\n",
      "1 + 2 + 3 + 4 + 5 + 6 + 7 + 8 + 9 + 10 = 55\n",
      "1 + 2 + 3 + 4 + 5 + 6 + 7 + 8 + 9 + 10 + 11 = 66\n",
      "1 + 2 + 3 + 4 + 5 + 6 + 7 + 8 + 9 + 10 + 11 + 12 = 78\n",
      "1 + 2 + 3 + 4 + 5 + 6 + 7 + 8 + 9 + 10 + 11 + 12 + 13 = 91\n",
      "1 + 2 + 3 + 4 + 5 + 6 + 7 + 8 + 9 + 10 + 11 + 12 + 13 + 14 = 105\n",
      "1 + 2 + 3 + 4 + 5 + 6 + 7 + 8 + 9 + 10 + 11 + 12 + 13 + 14 + 15 = 120\n",
      "\n"
     ]
    }
   ],
   "source": [
    "n = int(input('Enter a number:'))\n",
    "for j in range(1, n+1):\n",
    "    a=[]\n",
    "    for i in range(1, j+1):\n",
    "        print(i, sep=\" \", end=\" \")\n",
    "        if(i<j):\n",
    "            print(\"+\", sep=\" \", end=\" \")\n",
    "        a.append(i)\n",
    "    print(\"=\",sum(a))\n",
    "print()"
   ]
  },
  {
   "cell_type": "markdown",
   "metadata": {},
   "source": [
    "10.Python Program to Find the Prime Factors of a Number"
   ]
  },
  {
   "cell_type": "code",
   "execution_count": 21,
   "metadata": {},
   "outputs": [
    {
     "name": "stdout",
     "output_type": "stream",
     "text": [
      "Enter an integer:10\n",
      "Factors are,\n",
      "2\n",
      "5\n"
     ]
    }
   ],
   "source": [
    "n=int(input('Enter an integer:'))\n",
    "print(\"Factors are,\")\n",
    "i=1\n",
    "while(i<=n):\n",
    "    k=0\n",
    "    if(n%i==0):\n",
    "        j=1\n",
    "        while(j<=i):\n",
    "            if(i%j==0):\n",
    "                k=k+1\n",
    "            j=j+1\n",
    "        if(k==2):\n",
    "            print(i)\n",
    "    i=i+1"
   ]
  },
  {
   "cell_type": "markdown",
   "metadata": {},
   "source": [
    "11.Python Program to Check If Two Numbers are Amicable Numbers or Not"
   ]
  },
  {
   "cell_type": "code",
   "execution_count": 22,
   "metadata": {},
   "outputs": [
    {
     "name": "stdout",
     "output_type": "stream",
     "text": [
      "Enter number 1:15\n",
      "Enter number 2:75\n",
      "Not Amicable!\n"
     ]
    }
   ],
   "source": [
    "x = int(input('Enter number 1:'))\n",
    "y = int(input('Enter number 2:'))\n",
    "sum1 = 0\n",
    "sum2 = 0\n",
    "for i in range(1, x):\n",
    "    if x%i == 0:\n",
    "        sum1+=i\n",
    "for j in range(1, y):\n",
    "    if y%j == 0:\n",
    "        sum2+=j\n",
    "if(sum1 == y and sum2 == x):\n",
    "    print('Amicable!')\n",
    "else:\n",
    "    print('Not Amicable!')"
   ]
  },
  {
   "cell_type": "markdown",
   "metadata": {},
   "source": [
    "12.Python Program to Find Whether a Number is a Power of Two"
   ]
  },
  {
   "cell_type": "code",
   "execution_count": 23,
   "metadata": {},
   "outputs": [
    {
     "name": "stdout",
     "output_type": "stream",
     "text": [
      "Enter a number:20\n",
      "20 is not a power of two.\n"
     ]
    }
   ],
   "source": [
    "def is_power_of_two(n):\n",
    "    \"Return true if n is a power of two.\"\n",
    "    if n <= 0:\n",
    "        return false\n",
    "    else:\n",
    "        return n and (n-1) == 0\n",
    "n = int(input('Enter a number:'))\n",
    "if is_power_of_two(n):\n",
    "    print('{} is a power of two.'.format(n))\n",
    "else:\n",
    "    print('{} is not a power of two.'.format(n))"
   ]
  },
  {
   "cell_type": "markdown",
   "metadata": {},
   "source": [
    "13.Python Program to Calculate the Power using Recursion"
   ]
  },
  {
   "cell_type": "code",
   "execution_count": 25,
   "metadata": {},
   "outputs": [
    {
     "name": "stdout",
     "output_type": "stream",
     "text": [
      "Enter base:2\n",
      "Enter exponential value:5\n",
      "result: 32\n"
     ]
    }
   ],
   "source": [
    "def power(base, exp):\n",
    "    if(exp==1):\n",
    "        return base\n",
    "    if(exp!=1):\n",
    "        return(base*power(base, exp-1))\n",
    "base=int(input(\"Enter base:\"))\n",
    "exp=int(input(\"Enter exponential value:\"))\n",
    "print('result:',power(base, exp))"
   ]
  },
  {
   "cell_type": "markdown",
   "metadata": {},
   "source": [
    "14.Python Program to Find Product of Two Numbers using Recursion"
   ]
  },
  {
   "cell_type": "code",
   "execution_count": 26,
   "metadata": {},
   "outputs": [
    {
     "name": "stdout",
     "output_type": "stream",
     "text": [
      "Enter first number.2\n",
      "Enter Second number.5\n",
      "product is: 10\n"
     ]
    }
   ],
   "source": [
    "def product(a,b):\n",
    "    if(a<b):\n",
    "        return product(b,a)\n",
    "    elif(b!=0):\n",
    "        return(a+product(a, b-1))\n",
    "    else:\n",
    "        return 0\n",
    "a = int(input('Enter first number.'))\n",
    "b = int(input('Enter Second number.'))\n",
    "print('product is:', product(a,b))"
   ]
  },
  {
   "cell_type": "markdown",
   "metadata": {},
   "source": [
    "15.Python Program to Find All Perfect Squares in the Given Range"
   ]
  },
  {
   "cell_type": "code",
   "execution_count": 1,
   "metadata": {},
   "outputs": [
    {
     "name": "stdout",
     "output_type": "stream",
     "text": [
      "Enter lower range.2\n",
      "Enter upper range.20\n",
      "[4, 9, 16]\n"
     ]
    }
   ],
   "source": [
    "l = int(input('Enter lower range.'))\n",
    "u = int(input('Enter upper range.'))\n",
    "a=[]\n",
    "a=[x for x in range(l, u+1) if (int(x**0.5))**2==x and sum(list(map(int, str(x))))<10]\n",
    "print(a)"
   ]
  },
  {
   "cell_type": "markdown",
   "metadata": {},
   "source": [
    "16.Python Program to Print All Possible Combinations of Three Digits"
   ]
  },
  {
   "cell_type": "code",
   "execution_count": 2,
   "metadata": {},
   "outputs": [
    {
     "name": "stdout",
     "output_type": "stream",
     "text": [
      "Enter first number:2\n",
      "Enter second numbr:5\n",
      "Enter third number:7\n",
      "2 5 7\n",
      "2 7 5\n",
      "5 2 7\n",
      "5 7 2\n",
      "7 2 5\n",
      "7 5 2\n"
     ]
    }
   ],
   "source": [
    "a = int(input('Enter first number:'))\n",
    "b=  int(input('Enter second numbr:'))\n",
    "c = int(input('Enter third number:'))\n",
    "d=[]\n",
    "d.append(a)\n",
    "d.append(b)\n",
    "d.append(c)\n",
    "for i in range(0,3):\n",
    "    for j in range(0, 3):\n",
    "        for k in range(0, 3):\n",
    "            if(i!=j and j!=k and k!=i):\n",
    "                print(d[i], d[j], d[k])"
   ]
  },
  {
   "cell_type": "markdown",
   "metadata": {},
   "source": [
    "# Python Programs on Strings"
   ]
  },
  {
   "cell_type": "markdown",
   "metadata": {},
   "source": [
    "1.Python Program to Check if a String is a Pangram or Not"
   ]
  },
  {
   "cell_type": "code",
   "execution_count": 4,
   "metadata": {},
   "outputs": [
    {
     "name": "stdout",
     "output_type": "stream",
     "text": [
      "Enter string:Twikle Twinkle little star How I wonder what you are\n",
      "The string is not pangram\n"
     ]
    }
   ],
   "source": [
    "from string import ascii_lowercase as asc_lower\n",
    "def check(s):\n",
    "    return set(asc_lower) - set(s.lower()) == set([])\n",
    "string = input(\"Enter string:\") \n",
    "if (check(string)==True):\n",
    "    print('The string is pangram.') \n",
    "else:\n",
    "    print('The string is not pangram')"
   ]
  },
  {
   "cell_type": "markdown",
   "metadata": {},
   "source": [
    "2.Python Program to Remove Odd Indexed Characters in a string"
   ]
  },
  {
   "cell_type": "code",
   "execution_count": 5,
   "metadata": {},
   "outputs": [
    {
     "name": "stdout",
     "output_type": "stream",
     "text": [
      "Enter a string:Hello World1\n",
      "Modified string is,\n",
      "HloWrd\n"
     ]
    }
   ],
   "source": [
    "def modify(string):\n",
    "    final = \"\"\n",
    "    for i in range(len(string)):\n",
    "        if i%2 == 0:\n",
    "            final = final + string[i]\n",
    "    return final\n",
    "string = input('Enter a string:')\n",
    "print(\"Modified string is,\")\n",
    "print(modify(string))"
   ]
  },
  {
   "cell_type": "markdown",
   "metadata": {},
   "source": [
    "3.Python Program to Remove the nth Index Character from a Non-Empty String"
   ]
  },
  {
   "cell_type": "code",
   "execution_count": 6,
   "metadata": {},
   "outputs": [
    {
     "name": "stdout",
     "output_type": "stream",
     "text": [
      "Enter the string:Coconut\n",
      "Enter the index of thr character to remove:4\n",
      "Modified string\n",
      "Cocout\n"
     ]
    }
   ],
   "source": [
    "def remove(string, n):\n",
    "    first = string[:n]\n",
    "    last = string[n+1:]\n",
    "    return first + last\n",
    "string = input('Enter the string:')\n",
    "n=int(input('Enter the index of thr character to remove:'))\n",
    "print('Modified string')\n",
    "print(remove(string, n))"
   ]
  },
  {
   "cell_type": "markdown",
   "metadata": {},
   "source": [
    "4.Python Program to Replace All Occurrences of ‘a’ with $ in a String"
   ]
  },
  {
   "cell_type": "code",
   "execution_count": 10,
   "metadata": {},
   "outputs": [
    {
     "name": "stdout",
     "output_type": "stream",
     "text": [
      "Enter a string:Hallo Ansh\n",
      "Modified string:\n",
      "H$llo $nsh\n"
     ]
    }
   ],
   "source": [
    "string = input('Enter a string:')\n",
    "string = string.replace('a', '$')\n",
    "string = string.replace('A', '$')\n",
    "print('Modified string:')\n",
    "print(string)"
   ]
  },
  {
   "cell_type": "markdown",
   "metadata": {},
   "source": [
    "5.Python Program to Replace Every Blank Space with Hyphen in a String"
   ]
  },
  {
   "cell_type": "code",
   "execution_count": 11,
   "metadata": {},
   "outputs": [
    {
     "name": "stdout",
     "output_type": "stream",
     "text": [
      "Enter a string:Hello King\n",
      "Modified String:\n",
      "Hello-King\n"
     ]
    }
   ],
   "source": [
    "string = input('Enter a string:')\n",
    "string = string.replace(' ','-')\n",
    "print(\"Modified String:\")\n",
    "print(string)"
   ]
  },
  {
   "cell_type": "markdown",
   "metadata": {},
   "source": [
    "6.Python Program to Reverse a String using Recursion"
   ]
  },
  {
   "cell_type": "code",
   "execution_count": 15,
   "metadata": {},
   "outputs": [
    {
     "name": "stdout",
     "output_type": "stream",
     "text": [
      "Enter thr string to be reversed.hello\n",
      "olleh\n"
     ]
    }
   ],
   "source": [
    "def reverse(str):\n",
    "    if len(str) == 0:\n",
    "        return str\n",
    "    else:\n",
    "        return reverse(str[1:]) + str[0]\n",
    "a = str(input('Enter thr string to be reversed.'))\n",
    "print(reverse(a))"
   ]
  },
  {
   "cell_type": "markdown",
   "metadata": {},
   "source": [
    "7.Python Program to Reverse a String Without using Recursion"
   ]
  },
  {
   "cell_type": "code",
   "execution_count": 17,
   "metadata": {},
   "outputs": [
    {
     "name": "stdout",
     "output_type": "stream",
     "text": [
      "Enter a string:Hello\n",
      "Reverse of the string is:\n",
      "olleH\n"
     ]
    }
   ],
   "source": [
    "str = str(input('Enter a string:'))\n",
    "print('Reverse of the string is:')\n",
    "print(str[::-1])"
   ]
  },
  {
   "cell_type": "markdown",
   "metadata": {},
   "source": [
    "8.Python Program to Determine How Many Times a Given Letter Occurs in a String Recursively"
   ]
  },
  {
   "cell_type": "code",
   "execution_count": 18,
   "metadata": {},
   "outputs": [
    {
     "name": "stdout",
     "output_type": "stream",
     "text": [
      "Enter a string:Hello world\n",
      "Enter character to check:l\n",
      "Count is:\n",
      "3\n"
     ]
    }
   ],
   "source": [
    "def check(string, ch):\n",
    "    if not string:\n",
    "        return 0\n",
    "    elif string[0]==ch:\n",
    "        return 1+check(string[1:],ch)\n",
    "    else:\n",
    "        return check(string[1:],ch)\n",
    "string = input('Enter a string:')\n",
    "ch = input(\"Enter character to check:\")\n",
    "print(\"Count is:\")\n",
    "print(check(string,ch))"
   ]
  },
  {
   "cell_type": "markdown",
   "metadata": {},
   "source": [
    "9.Python Program to Calculate the Length of a String Without using Library Functions"
   ]
  },
  {
   "cell_type": "code",
   "execution_count": 19,
   "metadata": {},
   "outputs": [
    {
     "name": "stdout",
     "output_type": "stream",
     "text": [
      "Enter a string:Hello\n",
      "Length of the string is:\n",
      "5\n"
     ]
    }
   ],
   "source": [
    "string = input('Enter a string:')\n",
    "count = 0\n",
    "for i in string:\n",
    "    count=count+1\n",
    "print('Length of the string is:')\n",
    "print(count)"
   ]
  },
  {
   "cell_type": "markdown",
   "metadata": {},
   "source": [
    "10.Python Program to Count the Number of Words and Characters in a String"
   ]
  },
  {
   "cell_type": "code",
   "execution_count": 20,
   "metadata": {},
   "outputs": [
    {
     "name": "stdout",
     "output_type": "stream",
     "text": [
      "Enter a string:Hello World\n",
      "Number of words in the string:\n",
      "2\n",
      "Number of characters in the string:\n",
      "11\n"
     ]
    }
   ],
   "source": [
    "string = input('Enter a string:')\n",
    "char = 0\n",
    "word = 1\n",
    "for i in string:\n",
    "    char = char+1\n",
    "    if(i==' '):\n",
    "        word = word+1\n",
    "print('Number of words in the string:')\n",
    "print(word)\n",
    "print('Number of characters in the string:')\n",
    "print(char)"
   ]
  },
  {
   "cell_type": "markdown",
   "metadata": {},
   "source": [
    "11.Python Program to Count Number of Lowercase Characters in a String"
   ]
  },
  {
   "cell_type": "code",
   "execution_count": 21,
   "metadata": {},
   "outputs": [
    {
     "name": "stdout",
     "output_type": "stream",
     "text": [
      "Enter a string:Hello World\n",
      "The number of lowercase character is:\n",
      "8\n"
     ]
    }
   ],
   "source": [
    "str = input('Enter a string:')\n",
    "count = 0\n",
    "for i in string:\n",
    "    if(i.islower()):\n",
    "        count=count+1\n",
    "print('The number of lowercase character is:')\n",
    "print(count)"
   ]
  },
  {
   "cell_type": "markdown",
   "metadata": {},
   "source": [
    "12.Python Program to Count the Number of Vowels in a String"
   ]
  },
  {
   "cell_type": "code",
   "execution_count": 23,
   "metadata": {},
   "outputs": [
    {
     "name": "stdout",
     "output_type": "stream",
     "text": [
      "Enter a string:Hello World\n",
      "Number of vowels:\n",
      "3\n"
     ]
    }
   ],
   "source": [
    "string = input('Enter a string:')\n",
    "vowels = 0\n",
    "for i in string:\n",
    "    if (i == 'a' or i == 'e' or i == 'i' or i == 'o' or i == 'u' or i == 'A' or i == 'E' or i == 'I' or i == 'O' or i == 'U'):\n",
    "        vowels = vowels+1\n",
    "print('Number of vowels:')\n",
    "print(vowels)"
   ]
  },
  {
   "cell_type": "markdown",
   "metadata": {},
   "source": [
    "13.Python Program to Count Number of Uppercase and Lowercase Letters in a String"
   ]
  },
  {
   "cell_type": "code",
   "execution_count": 24,
   "metadata": {},
   "outputs": [
    {
     "name": "stdout",
     "output_type": "stream",
     "text": [
      "Enter a stringHello World\n",
      "The number of lowercase letters:\n",
      "8\n",
      "The number of uppercase letters:\n",
      "2\n"
     ]
    }
   ],
   "source": [
    "string = input('Enter a string')\n",
    "count1 = 0\n",
    "count2 = 0\n",
    "for i in string:\n",
    "    if (i.islower()):\n",
    "        count1 = count1+1\n",
    "    elif (i.isupper()):\n",
    "        count2 = count2+1\n",
    "print('The number of lowercase letters:')\n",
    "print(count1)\n",
    "print('The number of uppercase letters:')\n",
    "print(count2)"
   ]
  },
  {
   "cell_type": "markdown",
   "metadata": {},
   "source": [
    "14.Python Program to Count the Number of Digits and Letters in a String"
   ]
  },
  {
   "cell_type": "code",
   "execution_count": 28,
   "metadata": {},
   "outputs": [
    {
     "name": "stdout",
     "output_type": "stream",
     "text": [
      "Enter a string:Hello123\n",
      "The number of digits in string:\n",
      "3\n",
      "The number of characters in string:\n",
      "8\n"
     ]
    }
   ],
   "source": [
    "string = input('Enter a string:')\n",
    "count1 = 0\n",
    "count2 = 0\n",
    "for i in string:\n",
    "    if (i.isdigit()):\n",
    "        count1 = count1+1\n",
    "    count2=count2+1\n",
    "print('The number of digits in string:')\n",
    "print(count1)\n",
    "print('The number of characters in string:')\n",
    "print(count2)"
   ]
  },
  {
   "cell_type": "markdown",
   "metadata": {},
   "source": [
    "15.Python Program to Print All Permutations of a String in Lexicographic Order using Recursion"
   ]
  },
  {
   "cell_type": "code",
   "execution_count": 30,
   "metadata": {},
   "outputs": [
    {
     "name": "stdout",
     "output_type": "stream",
     "text": [
      "Enter the string: cow\n",
      "cow\n",
      "cwo\n",
      "ocw\n",
      "owc\n",
      "wco\n",
      "woc\n"
     ]
    }
   ],
   "source": [
    "from math import factorial\n",
    " \n",
    "def print_permutations_lexicographic_order(s):\n",
    "    \"\"\"Print all permutations of string s in lexicographic order.\"\"\"\n",
    "    seq = list(s)\n",
    "    for _ in range(factorial(len(seq))):\n",
    "        print(''.join(seq))\n",
    "        nxt = get_next_permutation(seq)\n",
    "        # if seq is the highest permutation\n",
    "        if nxt is None:\n",
    "            # then reverse it\n",
    "            seq.reverse()\n",
    "        else:\n",
    "            seq = nxt\n",
    " \n",
    "def get_next_permutation(seq):\n",
    "    \"\"\"Return next greater lexicographic permutation. Return None if cannot.\n",
    " \n",
    "    This will return the next greater permutation of seq in lexicographic\n",
    "    order. If seq is the highest permutation then this will return None.\n",
    " \n",
    "    seq is a list.\n",
    "    \"\"\"\n",
    "    if len(seq) == 0:\n",
    "        return None\n",
    " \n",
    "    nxt = get_next_permutation(seq[1:])\n",
    " \n",
    "    # if seq[1:] is the highest permutation\n",
    "    if nxt is None:\n",
    "        # reverse seq[1:], so that seq[1:] now is in ascending order\n",
    "        seq[1:] = reversed(seq[1:])\n",
    " \n",
    "        # find q such that seq[q] is the smallest element in seq[1:] such that\n",
    "        # seq[q] > seq[0]\n",
    "        q = 1\n",
    "        while q < len(seq) and seq[0] > seq[q]:\n",
    "            q += 1\n",
    " \n",
    "        # if cannot find q, then seq is the highest permutation\n",
    "        if q == len(seq):\n",
    "            return None\n",
    " \n",
    "        # swap seq[0] and seq[q]\n",
    "        seq[0], seq[q] = seq[q], seq[0]\n",
    " \n",
    "        return seq\n",
    "    else:\n",
    "        return [seq[0]] + nxt\n",
    " \n",
    " \n",
    "s = input('Enter the string: ')\n",
    "print_permutations_lexicographic_order(s)"
   ]
  },
  {
   "cell_type": "markdown",
   "metadata": {},
   "source": [
    "16.Python Program to Print All Permutations of a String in Lexicographic Order without Recursion"
   ]
  },
  {
   "cell_type": "code",
   "execution_count": 32,
   "metadata": {},
   "outputs": [
    {
     "name": "stdout",
     "output_type": "stream",
     "text": [
      "Enter the stringcow\n",
      "cow\n",
      "cwo\n",
      "ocw\n",
      "owc\n",
      "owo\n",
      "oow\n"
     ]
    }
   ],
   "source": [
    "from math import factorial\n",
    "def print_permutations_lexicographic_order(s):\n",
    "    \"\"\"print all permutations of string s in lexicographic order.\"\"\"\n",
    "    seq = list(s)\n",
    "    \n",
    "    #there are going to be n! permutations where n=len(seq)\n",
    "    for _ in range(factorial(len(seq))):\n",
    "        #print permutation\n",
    "        print(''.join(seq))\n",
    "        \n",
    "        #find p such that seq[p:] is tge largest sequence with element in\n",
    "        #descending lexicographic order\n",
    "        p = len(seq) - 1\n",
    "        while p > 0 and seq[p-1] > seq[p] :\n",
    "            p -= 1\n",
    "        #reverse seq[p:]\n",
    "        seq[p:] = reversed(seq[p:])\n",
    "        \n",
    "        if p > 0:\n",
    "            #find q such that seq(q) is the smallest element in seq[p:] such that\n",
    "            #seq[q] > seq[p - 1]\n",
    "            q = p\n",
    "            while seq[p - 1] > seq[q]:\n",
    "                q += 1\n",
    "                \n",
    "            #swap seq [p - 1] and seq[q]\n",
    "            seq[q-1], seq[q] = seq[q], seq[p-1]\n",
    "            \n",
    "s = input('Enter the string')\n",
    "print_permutations_lexicographic_order(s)"
   ]
  },
  {
   "cell_type": "markdown",
   "metadata": {},
   "source": [
    "17.Python Program to Check if the Substring is Present in the Given String"
   ]
  },
  {
   "cell_type": "code",
   "execution_count": 35,
   "metadata": {},
   "outputs": [
    {
     "name": "stdout",
     "output_type": "stream",
     "text": [
      "Enter a string:King is always King.\n",
      "Enter a word:King\n",
      "Substring not found in string:\n"
     ]
    }
   ],
   "source": [
    "sting = input('Enter a string:')\n",
    "sub_str = input('Enter a word:')\n",
    "if(string.find(sub_str)==-1):\n",
    "    print('Substring not found in string:')\n",
    "else:\n",
    "    print('Substring in string:')"
   ]
  },
  {
   "cell_type": "markdown",
   "metadata": {},
   "source": [
    "18.Python Program to Find Common Characters in Two Strings"
   ]
  },
  {
   "cell_type": "code",
   "execution_count": 38,
   "metadata": {},
   "outputs": [
    {
     "name": "stdout",
     "output_type": "stream",
     "text": [
      "Enter first string:Hai\n",
      "Enter second string:Hello\n",
      "The common letters are.\n",
      "H\n"
     ]
    }
   ],
   "source": [
    "s1 = input('Enter first string:')\n",
    "s2 = input('Enter second string:')\n",
    "a = list(set(s1) & set(s2))\n",
    "print('The common letters are.')\n",
    "for i in a:\n",
    "    print(i)"
   ]
  },
  {
   "cell_type": "markdown",
   "metadata": {},
   "source": [
    "19.Python Program to Print All Letters Present in Both Strings"
   ]
  },
  {
   "cell_type": "code",
   "execution_count": 41,
   "metadata": {},
   "outputs": [
    {
     "name": "stdout",
     "output_type": "stream",
     "text": [
      "Enter first string:Hello\n",
      "Enter second string:World\n",
      "The letters are.\n",
      "o\n",
      "W\n",
      "e\n",
      "l\n",
      "d\n",
      "r\n",
      "H\n"
     ]
    }
   ],
   "source": [
    "s1 = input('Enter first string:')\n",
    "s2 = input('Enter second string:')\n",
    "a = list(set(s1)|set(s2))\n",
    "print('The letters are.')\n",
    "for i in a:\n",
    "    print(i)"
   ]
  },
  {
   "cell_type": "markdown",
   "metadata": {},
   "source": [
    "20.Python Program that Displays which Letters are in First String but not in Second"
   ]
  },
  {
   "cell_type": "code",
   "execution_count": 42,
   "metadata": {},
   "outputs": [
    {
     "name": "stdout",
     "output_type": "stream",
     "text": [
      "Enter a first string:Hai\n",
      "Enter a second stringHello\n",
      "The letters are:\n",
      "i\n",
      "a\n"
     ]
    }
   ],
   "source": [
    "s1 = input('Enter a first string:')\n",
    "s2 = input('Enter a second string')\n",
    "a=list(set(s1)-set(s2))\n",
    "print('The letters are:')\n",
    "for i in a:\n",
    "    print(i)"
   ]
  },
  {
   "cell_type": "markdown",
   "metadata": {},
   "source": [
    "21.Python Program that Displays Letters that are not Common in Two Strings"
   ]
  },
  {
   "cell_type": "code",
   "execution_count": 45,
   "metadata": {},
   "outputs": [
    {
     "name": "stdout",
     "output_type": "stream",
     "text": [
      "Enter a first string:Hello\n",
      "Enter a second string:World\n",
      "The letters are:\n",
      "W\n",
      "e\n",
      "d\n",
      "r\n",
      "H\n"
     ]
    }
   ],
   "source": [
    "s1 = input('Enter a first string:')\n",
    "s1 = input('Enter a second string:')\n",
    "a = list(set(s1)^set(s2))\n",
    "print('The letters are:')\n",
    "for i in a:\n",
    "    print(i)"
   ]
  },
  {
   "cell_type": "markdown",
   "metadata": {},
   "source": [
    "22.Python Program to Create a New String Made up of First and Last 2 Characters"
   ]
  },
  {
   "cell_type": "code",
   "execution_count": 49,
   "metadata": {},
   "outputs": [
    {
     "name": "stdout",
     "output_type": "stream",
     "text": [
      "Enter a string:Hello\n",
      "Newly formed string is:\n",
      "Helo\n"
     ]
    }
   ],
   "source": [
    "string = input('Enter a string:')\n",
    "count = 0\n",
    "for i in string:\n",
    "    count = count+1\n",
    "new = string[0:2]+string[count-2:count]\n",
    "print(\"Newly formed string is:\")\n",
    "print(new)"
   ]
  },
  {
   "cell_type": "markdown",
   "metadata": {},
   "source": [
    "23.Python Program to Find the Larger String without using Built-in Functions"
   ]
  },
  {
   "cell_type": "code",
   "execution_count": 51,
   "metadata": {},
   "outputs": [
    {
     "name": "stdout",
     "output_type": "stream",
     "text": [
      "Enter first string: Hello world\n",
      "Enter second string: How was the day\n",
      "Larger string is: \n",
      "How was the day\n"
     ]
    }
   ],
   "source": [
    "string1 = input('Enter first string: ')\n",
    "string2 = input('Enter second string: ')\n",
    "count1 = 0\n",
    "count2 = 0\n",
    "for i in string1:\n",
    "    count1=count1+1\n",
    "for j in string2:\n",
    "    count2=count2+1\n",
    "if(count1<count2):\n",
    "    print('Larger string is: ')\n",
    "    print(string2)\n",
    "elif(count1==count2):\n",
    "    print('Both strings are equal')\n",
    "else:\n",
    "    print('Larger string is:')\n",
    "    print(string1)"
   ]
  },
  {
   "cell_type": "markdown",
   "metadata": {},
   "source": [
    "24.Python Program to Sort Hyphen Separated Sequence of Words in Alphabetical Order"
   ]
  },
  {
   "cell_type": "code",
   "execution_count": 1,
   "metadata": {},
   "outputs": [
    {
     "name": "stdout",
     "output_type": "stream",
     "text": [
      "Enter a string:Hello \n",
      "Modified string:\n",
      " elloH\n"
     ]
    }
   ],
   "source": [
    "def change(string):\n",
    "    return string[-1:] + string[1:-1] + string[:1]\n",
    "string = input('Enter a string:')\n",
    "print('Modified string:')\n",
    "print(change(string))"
   ]
  },
  {
   "cell_type": "markdown",
   "metadata": {},
   "source": [
    "25.Python Program to Count the Occurrences of Each Word in a Given String Sentence"
   ]
  },
  {
   "cell_type": "code",
   "execution_count": 2,
   "metadata": {},
   "outputs": [
    {
     "name": "stdout",
     "output_type": "stream",
     "text": [
      "Enter a string:Hello World\n",
      "Enter a word:Hello\n",
      "Count of the word is:\n",
      "1\n"
     ]
    }
   ],
   "source": [
    "string = input('Enter a string:')\n",
    "word = input('Enter a word:')\n",
    "a=[]\n",
    "count=0\n",
    "a=string.split(\" \")\n",
    "for i in range(0, len(a)):\n",
    "    if(word==a[i]):\n",
    "        count=count+1\n",
    "print('Count of the word is:')\n",
    "print(count)"
   ]
  },
  {
   "cell_type": "markdown",
   "metadata": {},
   "source": [
    "26.Python Program to Count Number of Vowels in a String using Sets"
   ]
  },
  {
   "cell_type": "code",
   "execution_count": 3,
   "metadata": {},
   "outputs": [
    {
     "name": "stdout",
     "output_type": "stream",
     "text": [
      "Enter a string:Hello World\n",
      "count of the vowels is:\n",
      "3\n"
     ]
    }
   ],
   "source": [
    "s = input('Enter a string:')\n",
    "count = 0\n",
    "vowels = set('aeiou')\n",
    "for letter in s:\n",
    "    if letter in vowels:\n",
    "        count += 1\n",
    "print('count of the vowels is:')\n",
    "print(count)"
   ]
  },
  {
   "cell_type": "markdown",
   "metadata": {},
   "source": [
    "27.String Palindrome Program in Python"
   ]
  },
  {
   "cell_type": "code",
   "execution_count": 4,
   "metadata": {},
   "outputs": [
    {
     "name": "stdout",
     "output_type": "stream",
     "text": [
      "Enter a strig:Hello World\n",
      "The string is not palindrome!\n"
     ]
    }
   ],
   "source": [
    "string = input('Enter a strig:')\n",
    "if(string==string[::-1]):\n",
    "    print('The string is palindrome!')\n",
    "else:\n",
    "    print('The string is not palindrome!')"
   ]
  },
  {
   "cell_type": "markdown",
   "metadata": {},
   "source": [
    "28.Python Program to Check whether two Strings are Anagrams"
   ]
  },
  {
   "cell_type": "code",
   "execution_count": 6,
   "metadata": {},
   "outputs": [
    {
     "name": "stdout",
     "output_type": "stream",
     "text": [
      "Enter a first string:Hello World\n",
      "Enter a second string:Hello World\n",
      "The strings are anagrams.\n"
     ]
    }
   ],
   "source": [
    "s1 = input('Enter a first string:')\n",
    "s2 = input('Enter a second string:')\n",
    "if(sorted(s1) == sorted(s2)):\n",
    "    print('The strings are anagrams.')\n",
    "else:\n",
    "    print('The strings are not anagrams.')"
   ]
  },
  {
   "cell_type": "markdown",
   "metadata": {},
   "source": [
    "29.Python Program to Check whether a String is Palindrome or not using Recursion"
   ]
  },
  {
   "cell_type": "code",
   "execution_count": 8,
   "metadata": {},
   "outputs": [
    {
     "name": "stdout",
     "output_type": "stream",
     "text": [
      "Enter a string:Hello World\n",
      "String is not a palindrome!\n"
     ]
    }
   ],
   "source": [
    "def is_palindrome(s):\n",
    "    if len(s) < 1:\n",
    "        return True\n",
    "    else:\n",
    "        if s[0] == s[-1]:\n",
    "            return is_palindrome(s[1:-1])\n",
    "        else:\n",
    "            return False\n",
    "a = str(input('Enter a string:'))\n",
    "if(is_palindrome(a)==True):\n",
    "    print('String is palindrome!')\n",
    "else:\n",
    "    print('String is not a palindrome!')"
   ]
  },
  {
   "cell_type": "markdown",
   "metadata": {},
   "source": [
    "30.Python Program to Find All Odd Palindrome Numbers in a Range without using Recursion"
   ]
  },
  {
   "cell_type": "code",
   "execution_count": 10,
   "metadata": {},
   "outputs": [
    {
     "name": "stdout",
     "output_type": "stream",
     "text": [
      "Enter lower limit: 100\n",
      "Enter upper limit: 150\n",
      "The numbers are [101, 103, 105, 107, 109, 111, 113, 115, 117, 119, 121, 123, 125, 127, 129, 131, 133, 135, 137, 139, 141, 143, 145, 147, 149]\n"
     ]
    }
   ],
   "source": [
    "a=[]\n",
    "l=int(input('Enter lower limit: '))\n",
    "u=int(input('Enter upper limit: '))\n",
    "a=[x for x in range(l, u+1) if x%2!=0 and str(x)[::-1]]\n",
    "print('The numbers are', a)"
   ]
  },
  {
   "cell_type": "markdown",
   "metadata": {},
   "source": [
    "# Python Programs on List"
   ]
  },
  {
   "cell_type": "code",
   "execution_count": null,
   "metadata": {},
   "outputs": [],
   "source": []
  },
  {
   "cell_type": "code",
   "execution_count": null,
   "metadata": {},
   "outputs": [],
   "source": []
  },
  {
   "cell_type": "code",
   "execution_count": null,
   "metadata": {},
   "outputs": [],
   "source": []
  },
  {
   "cell_type": "code",
   "execution_count": null,
   "metadata": {},
   "outputs": [],
   "source": []
  },
  {
   "cell_type": "code",
   "execution_count": null,
   "metadata": {},
   "outputs": [],
   "source": []
  },
  {
   "cell_type": "code",
   "execution_count": null,
   "metadata": {},
   "outputs": [],
   "source": []
  },
  {
   "cell_type": "code",
   "execution_count": null,
   "metadata": {},
   "outputs": [],
   "source": []
  },
  {
   "cell_type": "code",
   "execution_count": null,
   "metadata": {},
   "outputs": [],
   "source": []
  },
  {
   "cell_type": "code",
   "execution_count": null,
   "metadata": {},
   "outputs": [],
   "source": []
  },
  {
   "cell_type": "code",
   "execution_count": null,
   "metadata": {},
   "outputs": [],
   "source": []
  },
  {
   "cell_type": "code",
   "execution_count": null,
   "metadata": {},
   "outputs": [],
   "source": []
  },
  {
   "cell_type": "code",
   "execution_count": null,
   "metadata": {},
   "outputs": [],
   "source": []
  },
  {
   "cell_type": "code",
   "execution_count": null,
   "metadata": {},
   "outputs": [],
   "source": []
  },
  {
   "cell_type": "code",
   "execution_count": null,
   "metadata": {},
   "outputs": [],
   "source": []
  },
  {
   "cell_type": "code",
   "execution_count": null,
   "metadata": {},
   "outputs": [],
   "source": []
  }
 ],
 "metadata": {
  "kernelspec": {
   "display_name": "Python 3",
   "language": "python",
   "name": "python3"
  },
  "language_info": {
   "codemirror_mode": {
    "name": "ipython",
    "version": 3
   },
   "file_extension": ".py",
   "mimetype": "text/x-python",
   "name": "python",
   "nbconvert_exporter": "python",
   "pygments_lexer": "ipython3",
   "version": "3.8.5"
  }
 },
 "nbformat": 4,
 "nbformat_minor": 4
}
