{
 "cells": [
  {
   "cell_type": "markdown",
   "metadata": {},
   "source": [
    "1. Python program to check whether the given number is even or not."
   ]
  },
  {
   "cell_type": "code",
   "execution_count": 4,
   "metadata": {},
   "outputs": [
    {
     "name": "stdout",
     "output_type": "stream",
     "text": [
      "Enter a number4\n",
      "The number is even\n"
     ]
    }
   ],
   "source": [
    "number = input('Enter a number')\n",
    "x = int(number)%2\n",
    "if x == 0:\n",
    "    print('The number is even')\n",
    "else:\n",
    "    print('The number is odd')"
   ]
  },
  {
   "cell_type": "markdown",
   "metadata": {},
   "source": [
    "2. Python program to convert the temperature in degree centigrade to Fahrenheit"
   ]
  },
  {
   "cell_type": "code",
   "execution_count": 5,
   "metadata": {},
   "outputs": [
    {
     "name": "stdout",
     "output_type": "stream",
     "text": [
      "Enter a temperature in centigrade:30\n",
      "Temperature in Farenheit is:  86.0\n"
     ]
    }
   ],
   "source": [
    "c = input('Enter a temperature in centigrade:')\n",
    "f = (9*(int(c))/5)+32\n",
    "print('Temperature in Farenheit is: ', f)"
   ]
  },
  {
   "cell_type": "markdown",
   "metadata": {},
   "source": [
    "3. Python program to find the area of a triangle whose sides are given"
   ]
  },
  {
   "cell_type": "code",
   "execution_count": 7,
   "metadata": {},
   "outputs": [
    {
     "name": "stdout",
     "output_type": "stream",
     "text": [
      "Enter the length of side a: 3\n",
      "Enter the length of side b: 4\n",
      "Enter the length of side c: 6\n",
      "The area of the triangle is : 5.332682251925386\n"
     ]
    }
   ],
   "source": [
    "import math\n",
    "a = float(input('Enter the length of side a: '))\n",
    "b = float(input('Enter the length of side b: '))\n",
    "c = float(input('Enter the length of side c: '))\n",
    "s = (a+b+c)/2\n",
    "area = math.sqrt(s*(s-a)*(s-b)*(s-c))\n",
    "print('The area of the triangle is :', area)"
   ]
  },
  {
   "cell_type": "markdown",
   "metadata": {},
   "source": [
    "4. Python program to find out the average of a set of integers"
   ]
  },
  {
   "cell_type": "code",
   "execution_count": 12,
   "metadata": {},
   "outputs": [
    {
     "name": "stdout",
     "output_type": "stream",
     "text": [
      "Enter the count of numbers: 10\n",
      "Enter an integer: 1\n",
      "Enter an integer: 2\n",
      "Enter an integer: 3\n",
      "Enter an integer: 4\n",
      "Enter an integer: 5\n",
      "Enter an integer: 6\n",
      "Enter an integer: 7\n",
      "Enter an integer: 8\n",
      "Enter an integer: 9\n",
      "Enter an integer: 10\n",
      "The avg is:  5.5\n"
     ]
    }
   ],
   "source": [
    "count = int(input('Enter the count of numbers: '))\n",
    "i = 0\n",
    "sum = 0\n",
    "for i in range(count):\n",
    "    x = int(input('Enter an integer: '))\n",
    "    sum = sum + x\n",
    "avg = sum/count\n",
    "print('The avg is: ', avg)"
   ]
  },
  {
   "cell_type": "markdown",
   "metadata": {},
   "source": [
    "5. Python program to find the product of a set of real numbers"
   ]
  },
  {
   "cell_type": "code",
   "execution_count": 14,
   "metadata": {},
   "outputs": [
    {
     "name": "stdout",
     "output_type": "stream",
     "text": [
      "Enter the number of real numbers: 4\n",
      "Enter a real number: 3.3\n",
      "Enter a real number: 4.4\n",
      "Enter a real number: 5.5\n",
      "Enter a real number: 6.6\n",
      "The product of the number is : 527.076\n"
     ]
    }
   ],
   "source": [
    "i = 0\n",
    "product  = 1\n",
    "count = int(input('Enter the number of real numbers: '))\n",
    "for i in range(count):\n",
    "    x = float(input(\"Enter a real number: \"))\n",
    "    product  = product * x\n",
    "print('The product of the number is :', product)"
   ]
  },
  {
   "cell_type": "markdown",
   "metadata": {},
   "source": [
    "6. Python program to find the circumference and area of a circle with a given radius"
   ]
  },
  {
   "cell_type": "code",
   "execution_count": 15,
   "metadata": {},
   "outputs": [
    {
     "name": "stdout",
     "output_type": "stream",
     "text": [
      "Input the radius of the circle: 4.3\n",
      "The circumference of the circle is : 27.01769682087222\n",
      "The area of the circle is:  58.088048164875275\n"
     ]
    }
   ],
   "source": [
    "import math\n",
    "r = float(input('Input the radius of the circle: '))\n",
    "c = 2*math.pi*r\n",
    "area = math.pi*r*r\n",
    "print('The circumference of the circle is :', c)\n",
    "print('The area of the circle is: ', area)"
   ]
  },
  {
   "cell_type": "markdown",
   "metadata": {},
   "source": [
    "7. Python program to check whether the given integer is a multiple of 5"
   ]
  },
  {
   "cell_type": "code",
   "execution_count": 19,
   "metadata": {},
   "outputs": [
    {
     "name": "stdout",
     "output_type": "stream",
     "text": [
      "Enter an integer: 23\n",
      "23 is not a multiple of 5\n"
     ]
    }
   ],
   "source": [
    "number = int(input('Enter an integer: '))\n",
    "if(number%5 == 0):\n",
    "    print(number, 'is a multiple of 5')\n",
    "else:\n",
    "    print(number, 'is not a multiple of 5')"
   ]
  },
  {
   "cell_type": "markdown",
   "metadata": {},
   "source": [
    "8. Python program to check whether the given integer is a multiple of both 5 and 7"
   ]
  },
  {
   "cell_type": "code",
   "execution_count": 21,
   "metadata": {},
   "outputs": [
    {
     "name": "stdout",
     "output_type": "stream",
     "text": [
      "Enter an integer: 35\n",
      "35 is a multiple of both 5 and 7\n"
     ]
    }
   ],
   "source": [
    "number = int(input('Enter an integer: '))\n",
    "if((number%5==0)and(number%7==0)):\n",
    "    print(number, 'is a multiple of both 5 and 7')\n",
    "else:\n",
    "    print(number, 'is not a multiple of both 5 and 7')"
   ]
  },
  {
   "cell_type": "markdown",
   "metadata": {},
   "source": [
    "9. Python program to find the average of 10 numbers using while loop"
   ]
  },
  {
   "cell_type": "code",
   "execution_count": 23,
   "metadata": {},
   "outputs": [
    {
     "name": "stdout",
     "output_type": "stream",
     "text": [
      "Enter a real number: 10\n",
      "Enter a real number: 9\n",
      "Enter a real number: 8\n",
      "Enter a real number: 7\n",
      "Enter a real number: 6\n",
      "Enter a real number: 5\n",
      "Enter a real number: 4\n",
      "Enter a real number: 3\n",
      "Enter a real number: 2\n",
      "Enter a real number: 1\n",
      "avg is : 5.5\n"
     ]
    }
   ],
   "source": [
    "count = 0 \n",
    "sum = 0.0\n",
    "while(count<10):\n",
    "    number = float(input('Enter a real number: '))\n",
    "    count = count+1\n",
    "    sum = sum+number\n",
    "avg = sum/10;\n",
    "print('avg is :', avg)"
   ]
  },
  {
   "cell_type": "markdown",
   "metadata": {},
   "source": [
    "10. Python program to display the given integer in reverse manner"
   ]
  },
  {
   "cell_type": "code",
   "execution_count": 25,
   "metadata": {},
   "outputs": [
    {
     "name": "stdout",
     "output_type": "stream",
     "text": [
      "Enter a positive integer: 547\n",
      "745\n"
     ]
    }
   ],
   "source": [
    "number = int(input('Enter a positive integer: '))\n",
    "rev = 0\n",
    "while(number!=0):\n",
    "    digit = number%10\n",
    "    rev = (rev*10)+digit\n",
    "    number = number//10\n",
    "print(rev)"
   ]
  },
  {
   "cell_type": "markdown",
   "metadata": {},
   "source": [
    "11. Python program to find the geometric mean of n numbers"
   ]
  },
  {
   "cell_type": "code",
   "execution_count": 26,
   "metadata": {},
   "outputs": [
    {
     "name": "stdout",
     "output_type": "stream",
     "text": [
      "Enter the number of values :6\n",
      "Enter a real number :4\n",
      "Enter a real number :5.2\n",
      "Enter a real number :3\n",
      "Enter a real number :2.0\n",
      "Enter a real number :0.1\n",
      "Enter a real number :5.8\n",
      "The geometric mean is : 2.0414579080481485\n"
     ]
    }
   ],
   "source": [
    "c = 0\n",
    "p = 1.0\n",
    "count = int(input('Enter the number of values :'))\n",
    "while(c<count):\n",
    "    x = float(input('Enter a real number :'))\n",
    "    c = c+1\n",
    "    p = p*x\n",
    "gm = pow(p, 1.0/count)\n",
    "print('The geometric mean is :', gm)"
   ]
  },
  {
   "cell_type": "markdown",
   "metadata": {},
   "source": [
    "12. Python program to find the sum of the digits of an integer using while loop"
   ]
  },
  {
   "cell_type": "code",
   "execution_count": 27,
   "metadata": {},
   "outputs": [
    {
     "name": "stdout",
     "output_type": "stream",
     "text": [
      "Enter an integer :546\n",
      "Sum of digit is : 15\n"
     ]
    }
   ],
   "source": [
    "sum = 0\n",
    "number = int(input('Enter an integer :'))\n",
    "while(number!=0):\n",
    "    digit = number%10\n",
    "    sum = sum+digit\n",
    "    number = number//10\n",
    "print('Sum of digit is :', sum)"
   ]
  },
  {
   "cell_type": "markdown",
   "metadata": {},
   "source": [
    "13. Python program to display all the multiples of 3 within the range 10 to 50"
   ]
  },
  {
   "cell_type": "code",
   "execution_count": 29,
   "metadata": {},
   "outputs": [
    {
     "name": "stdout",
     "output_type": "stream",
     "text": [
      "10\n",
      "12\n",
      "14\n",
      "16\n",
      "18\n",
      "20\n",
      "22\n",
      "24\n",
      "26\n",
      "28\n",
      "30\n",
      "32\n",
      "34\n",
      "36\n",
      "38\n",
      "40\n",
      "42\n",
      "44\n",
      "46\n",
      "48\n"
     ]
    }
   ],
   "source": [
    "for i in range(10, 50):\n",
    "    if (i%2==0):\n",
    "        print(i)"
   ]
  },
  {
   "cell_type": "markdown",
   "metadata": {},
   "source": [
    "14. Python program to display all integers within the range 100-200 whose sum of digits is an even number"
   ]
  },
  {
   "cell_type": "code",
   "execution_count": 31,
   "metadata": {},
   "outputs": [
    {
     "name": "stdout",
     "output_type": "stream",
     "text": [
      "102\n",
      "105\n",
      "108\n",
      "111\n",
      "114\n",
      "117\n",
      "120\n",
      "123\n",
      "126\n",
      "129\n",
      "132\n",
      "135\n",
      "138\n",
      "141\n",
      "144\n",
      "147\n",
      "150\n",
      "153\n",
      "156\n",
      "159\n",
      "162\n",
      "165\n",
      "168\n",
      "171\n",
      "174\n",
      "177\n",
      "180\n",
      "183\n",
      "186\n",
      "189\n",
      "192\n",
      "195\n",
      "198\n"
     ]
    }
   ],
   "source": [
    "for i in range(100, 200):\n",
    "    num = i\n",
    "    sum = 0\n",
    "    while(num!=0):\n",
    "        digit = num%10\n",
    "        sum = sum+digit\n",
    "        num = num//10\n",
    "    if(sum%3==0):\n",
    "        print(i)"
   ]
  },
  {
   "cell_type": "markdown",
   "metadata": {},
   "source": [
    "15. Python program to check whether the given integer is a prime number or not"
   ]
  },
  {
   "cell_type": "code",
   "execution_count": 40,
   "metadata": {},
   "outputs": [
    {
     "name": "stdout",
     "output_type": "stream",
     "text": [
      "Enter an integer greater than 1:24\n"
     ]
    }
   ],
   "source": [
    "num = int(input('Enter an integer greater than 1:'))\n",
    "isprime = 1 # assuming that num is prime\n",
    "for i in range(2, num//2):\n",
    "    if(num%i==0):\n",
    "        isprime = 0\n",
    "        break\n",
    "    if(isprime==1):\n",
    "        print(num, 'is a prime number')\n",
    "    else:\n",
    "        print(num, 'is not a prime number')"
   ]
  },
  {
   "cell_type": "markdown",
   "metadata": {},
   "source": [
    "16. Python program to generate the prime numbers from 1 to N"
   ]
  },
  {
   "cell_type": "code",
   "execution_count": 42,
   "metadata": {},
   "outputs": [
    {
     "name": "stdout",
     "output_type": "stream",
     "text": [
      "Enter the range: 100\n",
      "2\n",
      "3\n",
      "5\n",
      "7\n",
      "11\n",
      "13\n",
      "17\n",
      "19\n",
      "23\n",
      "29\n",
      "31\n",
      "37\n",
      "41\n",
      "43\n",
      "47\n",
      "53\n",
      "59\n",
      "61\n",
      "67\n",
      "71\n",
      "73\n",
      "79\n",
      "83\n",
      "89\n",
      "97\n"
     ]
    }
   ],
   "source": [
    "num = int(input('Enter the range: '))\n",
    "for n in range(2, num):\n",
    "    for i in range(2, n):\n",
    "        if(n%i==0):\n",
    "            break\n",
    "    else:\n",
    "        print(n)"
   ]
  },
  {
   "cell_type": "markdown",
   "metadata": {},
   "source": [
    "17. Python program to find the roots of a quadratic equation"
   ]
  },
  {
   "cell_type": "code",
   "execution_count": 46,
   "metadata": {},
   "outputs": [
    {
     "name": "stdout",
     "output_type": "stream",
     "text": [
      "Enter the first co-efficient: 4\n",
      "Enter the second co-efficient: 7\n",
      "Enter the third co-efficient: 2\n",
      "The roots are real and distinct: \n",
      "The root 1 is -0.3596117967977924\n",
      "The root 2 is -1.3903882032022077\n"
     ]
    }
   ],
   "source": [
    "import math\n",
    "a = float(input('Enter the first co-efficient: '))\n",
    "b = float(input('Enter the second co-efficient: '))\n",
    "c = float(input('Enter the third co-efficient: '))\n",
    "if(a!=0.0):\n",
    "    d = (b*b)-(4*a*c)\n",
    "    if(d==0.0):\n",
    "        print('The roots are real and equal: ')\n",
    "        r = -b/(2*a)\n",
    "        print('The roots are ', r, 'and', r)\n",
    "    elif(d>0.0):\n",
    "        print('The roots are real and distinct: ')\n",
    "        r1 = (-b+(math.sqrt(d)))/(2*a)\n",
    "        r2 = (-b-(math.sqrt(d)))/(2*a)\n",
    "        print('The root 1 is', r1)\n",
    "        print('The root 2 is', r2)\n",
    "    else:\n",
    "        print('The roots are imaginary ')\n",
    "        rp = -b/(2*a)\n",
    "        ip = math.sqrt(-d)/(2*a)\n",
    "        print('The root 1 is: ', rp, '+i', ip)\n",
    "        print('The root 2 is: ', rp, '-i', ip)\n",
    "else:\n",
    "        print('Not a quadratic equation')\n",
    "        "
   ]
  },
  {
   "cell_type": "markdown",
   "metadata": {},
   "source": [
    "18. Python program to print the numbers from a given number n till 0 using recursion"
   ]
  },
  {
   "cell_type": "code",
   "execution_count": 47,
   "metadata": {},
   "outputs": [
    {
     "name": "stdout",
     "output_type": "stream",
     "text": [
      "8\n",
      "7\n",
      "6\n",
      "5\n",
      "4\n",
      "3\n",
      "2\n",
      "1\n"
     ]
    }
   ],
   "source": [
    "def print_till_zero(n):\n",
    "    if (n==0):\n",
    "        return\n",
    "    print(n)\n",
    "    n=n-1\n",
    "    print_till_zero(n)\n",
    "print_till_zero(8)"
   ]
  },
  {
   "cell_type": "markdown",
   "metadata": {},
   "source": [
    "19. Python program to find the factorial of a number using recursion"
   ]
  },
  {
   "cell_type": "code",
   "execution_count": 3,
   "metadata": {},
   "outputs": [
    {
     "name": "stdout",
     "output_type": "stream",
     "text": [
      "Enter an integer: 5\n",
      "The factorial of 5 is:  120\n"
     ]
    }
   ],
   "source": [
    "def fact(n):\n",
    "    if n==1:\n",
    "        f=1\n",
    "    else:\n",
    "        f = n * fact(n-1)\n",
    "    return f\n",
    "num = int(input(\"Enter an integer: \"))\n",
    "result = fact(num)\n",
    "print(\"The factorial of\", num, \"is: \", result)"
   ]
  },
  {
   "cell_type": "markdown",
   "metadata": {},
   "source": [
    "20. Python program to display the sum of n numbers using a list"
   ]
  },
  {
   "cell_type": "code",
   "execution_count": 4,
   "metadata": {},
   "outputs": [
    {
     "name": "stdout",
     "output_type": "stream",
     "text": [
      "How many numbers: 5\n",
      "Enter number 1\n",
      "Enter number 2\n",
      "Enter number 3\n",
      "Enter number 4\n",
      "Enter number 5\n",
      "Sum of numbers in the given list is : 15\n"
     ]
    }
   ],
   "source": [
    "numbers = []\n",
    "num = int(input('How many numbers: '))\n",
    "for n in range(num):\n",
    "    x = int(input('Enter number '))\n",
    "    numbers.append(x)\n",
    "print('Sum of numbers in the given list is :', sum(numbers))"
   ]
  },
  {
   "cell_type": "markdown",
   "metadata": {},
   "source": [
    "21. Python program to implement linear search"
   ]
  },
  {
   "cell_type": "code",
   "execution_count": 6,
   "metadata": {},
   "outputs": [
    {
     "name": "stdout",
     "output_type": "stream",
     "text": [
      "Enter the number to be found out: 2\n",
      "Successful search, the element is found at position  1\n"
     ]
    }
   ],
   "source": [
    "numbers = [4, 2, 7, 1, 8, 3, 6]\n",
    "f =0 #flag\n",
    "x = int(input('Enter the number to be found out: '))\n",
    "for i in range(len(numbers)):\n",
    "    if (x==numbers[i]):\n",
    "        print(\"Successful search, the element is found at position \", i)\n",
    "        f =1\n",
    "        break\n",
    "if(f==0):\n",
    "    print(\"Oops! Search unsuccessful\")"
   ]
  },
  {
   "cell_type": "markdown",
   "metadata": {},
   "source": [
    "22. Python program to implement binary search"
   ]
  },
  {
   "cell_type": "code",
   "execution_count": 7,
   "metadata": {},
   "outputs": [
    {
     "name": "stdout",
     "output_type": "stream",
     "text": [
      "Search successful, element found at position 3\n"
     ]
    }
   ],
   "source": [
    "def binarySearch(numbers, low, high, x):\n",
    "    if (high >= low):\n",
    "        mid = low + (high - low)//2\n",
    "        if (numbers[mid] == x):\n",
    "            return mid\n",
    "        elif (numbers[mid] > x):\n",
    "            return binarySeach(numbers, low, mid-1, x)\n",
    "        else:\n",
    "            return binarySearch(numbers, mid+1, high, x)\n",
    "    else:\n",
    "        return -1\n",
    "numbers = [1, 4, 6, 7, 12, 17, 25] #binary numbers requires sorted numbers\n",
    "x = 7\n",
    "result = binarySearch(numbers, 0, len(numbers)-1, x)\n",
    "if (result != -1):\n",
    "    print(\"Search successful, element found at position\", result)\n",
    "else:\n",
    "    print(\"The given element is not present in the array\")"
   ]
  },
  {
   "cell_type": "markdown",
   "metadata": {},
   "source": [
    "23. Python program to find the odd numbers in an array"
   ]
  },
  {
   "cell_type": "code",
   "execution_count": 8,
   "metadata": {},
   "outputs": [
    {
     "name": "stdout",
     "output_type": "stream",
     "text": [
      "The numbers of odd numbers in the list are:  4\n"
     ]
    }
   ],
   "source": [
    "numbers = [8, 3, 1, 6, 2, 4, 5, 9]\n",
    "count = 0\n",
    "for i in range(len(numbers)):\n",
    "    if(numbers[i]%2!=0):\n",
    "        count = count+1\n",
    "print('The numbers of odd numbers in the list are: ', count)"
   ]
  },
  {
   "cell_type": "markdown",
   "metadata": {},
   "source": [
    "24. Python program to find the largest number in a list without using built-in functions"
   ]
  },
  {
   "cell_type": "code",
   "execution_count": 9,
   "metadata": {},
   "outputs": [
    {
     "name": "stdout",
     "output_type": "stream",
     "text": [
      "The largest element is  9  which is found at position 5\n"
     ]
    }
   ],
   "source": [
    "numbers = [3, 8, 1, 7, 2, 9, 5, 4]\n",
    "big = numbers[0]\n",
    "position = 0 \n",
    "for i in range(len(numbers)):\n",
    "    if (numbers[i]>big):\n",
    "        big = numbers[i]\n",
    "        position = i \n",
    "print(\"The largest element is \", big,\" which is found at position\", position)"
   ]
  },
  {
   "cell_type": "markdown",
   "metadata": {},
   "source": [
    "25. Python program to insert a number to any position in a list"
   ]
  },
  {
   "cell_type": "code",
   "execution_count": 12,
   "metadata": {
    "scrolled": true
   },
   "outputs": [
    {
     "name": "stdout",
     "output_type": "stream",
     "text": [
      "[3, 4, 1, 9, 6, 2, 8]\n",
      "Enter the number to be inserted: 3\n",
      "Enter the position: 3\n",
      "[3, 4, 1, 3, 9, 6, 2, 8]\n"
     ]
    }
   ],
   "source": [
    "numbers = [3, 4, 1, 9, 6, 2, 8]\n",
    "print(numbers)\n",
    "x = int(input('Enter the number to be inserted: '))\n",
    "y = int(input('Enter the position: '))\n",
    "numbers.insert(y, x)\n",
    "print(numbers)"
   ]
  },
  {
   "cell_type": "markdown",
   "metadata": {},
   "source": [
    "26. Python program to delete an element from a list by index"
   ]
  },
  {
   "cell_type": "code",
   "execution_count": 13,
   "metadata": {},
   "outputs": [
    {
     "name": "stdout",
     "output_type": "stream",
     "text": [
      "[3, 4, 1, 9, 6, 2, 8]\n",
      "Enter the position of the element to be deleted: 3\n",
      "[3, 4, 1, 6, 2, 8]\n"
     ]
    }
   ],
   "source": [
    "numbers = [3, 4, 1, 9, 6, 2, 8]\n",
    "print(numbers)\n",
    "x = int(input('Enter the position of the element to be deleted: '))\n",
    "numbers.pop(x)\n",
    "print(numbers)"
   ]
  },
  {
   "cell_type": "markdown",
   "metadata": {},
   "source": [
    "27. Python program to check whether a string is palindrome or not"
   ]
  },
  {
   "cell_type": "code",
   "execution_count": 17,
   "metadata": {},
   "outputs": [
    {
     "name": "stdout",
     "output_type": "stream",
     "text": [
      "Enter a string:malayalam\n",
      "The string is palindrome\n"
     ]
    }
   ],
   "source": [
    "def rev(inputstring):\n",
    "    return inputstring[::-1]\n",
    "def isPalindrome(inputString):\n",
    "    reverseString = rev(inputString)\n",
    "    if (inputString == reverseString):\n",
    "        return True\n",
    "    return False\n",
    "s = input('Enter a string:')\n",
    "result = isPalindrome(s)\n",
    "if result == 1:\n",
    "    print('The string is palindrome')\n",
    "else:\n",
    "    print('The string is not palindrome')"
   ]
  },
  {
   "cell_type": "markdown",
   "metadata": {},
   "source": [
    "28. Python program to implement matrix addition"
   ]
  },
  {
   "cell_type": "code",
   "execution_count": 21,
   "metadata": {},
   "outputs": [
    {
     "name": "stdout",
     "output_type": "stream",
     "text": [
      "[16, 10, 4]\n",
      "[18, 8, 9]\n",
      "[13, 10, 4]\n"
     ]
    }
   ],
   "source": [
    "x = [[8, 5, 1], \n",
    "    [9, 3, 2], \n",
    "    [4, 6, 3]]\n",
    "y = [[8, 5, 3], \n",
    "    [9, 5, 7], \n",
    "    [9, 4, 1]]\n",
    "result = [[0, 0, 0],\n",
    "         [0, 0, 0], \n",
    "         [0, 0, 0]]\n",
    "for i in range(len(x)):\n",
    "    for j in range(len(x[0])):\n",
    "        result[i][j] = x[i][j] + y[i][j]\n",
    "for k in result:\n",
    "        print(k)"
   ]
  },
  {
   "cell_type": "markdown",
   "metadata": {},
   "source": [
    "29. Python program to implement matrix multiplication"
   ]
  },
  {
   "cell_type": "code",
   "execution_count": 22,
   "metadata": {},
   "outputs": [
    {
     "name": "stdout",
     "output_type": "stream",
     "text": [
      "[118, 69, 60, 0]\n",
      "[117, 68, 50, 0]\n",
      "[113, 62, 57, 0]\n"
     ]
    }
   ],
   "source": [
    "x = [[8, 5, 1], \n",
    "    [9, 3, 2], \n",
    "    [4, 6, 3]]\n",
    "y = [[8, 5, 3], \n",
    "    [9, 5, 7],\n",
    "    [9, 4, 1]]\n",
    "result = [[0, 0, 0, 0],\n",
    "         [0, 0, 0, 0],\n",
    "         [0, 0, 0, 0]]\n",
    "for i in range(len(x)):\n",
    "    for j in range(len(y[0])):\n",
    "        for k in range(len(y)):\n",
    "            result[i][j] += x[i][k] * y[k][j]\n",
    "for x in result:\n",
    "    print(x)"
   ]
  },
  {
   "cell_type": "markdown",
   "metadata": {},
   "source": [
    "30. Python program to check leap year"
   ]
  },
  {
   "cell_type": "code",
   "execution_count": 25,
   "metadata": {},
   "outputs": [
    {
     "name": "stdout",
     "output_type": "stream",
     "text": [
      "Enter a year: 2019\n",
      "2019 is not a leap year\n"
     ]
    }
   ],
   "source": [
    "year = int(input('Enter a year: '))\n",
    "if (year%4) == 0:\n",
    "    if (year%100) == 0:\n",
    "        if (year%400) == 0:\n",
    "            print(year, 'is a leap year')\n",
    "        else:\n",
    "            print(year, 'is not a leap year')\n",
    "    else:\n",
    "        print(year, 'is a leap year')\n",
    "else:\n",
    "    print(year, 'is not a leap year')"
   ]
  },
  {
   "cell_type": "markdown",
   "metadata": {},
   "source": [
    "31. Python program to find the Nth term in a Fibonacci series using recursion"
   ]
  },
  {
   "cell_type": "code",
   "execution_count": 26,
   "metadata": {},
   "outputs": [
    {
     "name": "stdout",
     "output_type": "stream",
     "text": [
      "8\n"
     ]
    }
   ],
   "source": [
    "def Fib(n):\n",
    "    if n<0:\n",
    "        print('The input is correct')\n",
    "    elif n==1:\n",
    "        return 0\n",
    "    elif n==2:\n",
    "        return 1\n",
    "    else:\n",
    "        return Fib(n-1)+Fib(n-2)\n",
    "print(Fib(7))"
   ]
  },
  {
   "cell_type": "markdown",
   "metadata": {},
   "source": [
    "32. Python program to print Fibonacci series using iteration"
   ]
  },
  {
   "cell_type": "code",
   "execution_count": 27,
   "metadata": {},
   "outputs": [
    {
     "name": "stdout",
     "output_type": "stream",
     "text": [
      "Enter the number of terms in the sequence: 8\n",
      "0 1 1 2 3 5 8 13 "
     ]
    }
   ],
   "source": [
    "a = 0\n",
    "b = 1\n",
    "n = int(input('Enter the number of terms in the sequence: '))\n",
    "print(a,b, end = \" \")\n",
    "while(n-2):\n",
    "    c = a+b\n",
    "    a, b = b, c\n",
    "    print(c, end = \" \")\n",
    "    n = n-1"
   ]
  },
  {
   "cell_type": "markdown",
   "metadata": {},
   "source": [
    "33. Python program to print all the items in a dictionary"
   ]
  },
  {
   "cell_type": "code",
   "execution_count": 28,
   "metadata": {},
   "outputs": [
    {
     "name": "stdout",
     "output_type": "stream",
     "text": [
      "John : ['48154516547', 'njkdnvknvk']\n",
      "Bob : ['154515746+89', 'jdshOVwnkv']\n",
      "Tom : ['kjvkvovvmk', 'dndvkajvkjew']\n"
     ]
    }
   ],
   "source": [
    "phone_book = {\n",
    "    'John':['48154516547', 'njkdnvknvk'],\n",
    "    'Bob':['154515746+89', 'jdshOVwnkv'],\n",
    "    'Tom':['kjvkvovvmk', 'dndvkajvkjew']\n",
    "}\n",
    "for k,v in phone_book.items():\n",
    "    print(k, \":\", v)"
   ]
  },
  {
   "cell_type": "markdown",
   "metadata": {},
   "source": [
    "34. Python program to implement a calculator to do basic operations"
   ]
  },
  {
   "cell_type": "code",
   "execution_count": 38,
   "metadata": {},
   "outputs": [
    {
     "name": "stdout",
     "output_type": "stream",
     "text": [
      "Enter two numbers\n",
      "5\n",
      "6\n",
      "Enter the operation +, -, *, /\n",
      "/\n",
      "0.8333333333333334\n"
     ]
    }
   ],
   "source": [
    "def add(x, y):\n",
    "    print(x+y)\n",
    "def subtract(x, y):\n",
    "    print(x-y)\n",
    "def multiply(x, y):\n",
    "    print(x*y)\n",
    "def divide(x, y):\n",
    "    print(x/y)\n",
    "print('Enter two numbers')\n",
    "n1 = input()\n",
    "n2 = input()\n",
    "print('Enter the operation +, -, *, /')\n",
    "op = input()\n",
    "if op =='+':\n",
    "    add(int(n1),int(n2))\n",
    "elif op == '-':\n",
    "    subtract(int(n1), int(n2))\n",
    "elif op == '*':\n",
    "    multiply(int(n1), int(n2))\n",
    "elif op == '/':\n",
    "    divide(int(n1), int(n2))\n",
    "else:\n",
    "    print('Invalid Entry')"
   ]
  },
  {
   "cell_type": "markdown",
   "metadata": {},
   "source": [
    "35. Python program to draw a circle of squares using Turtle"
   ]
  },
  {
   "cell_type": "code",
   "execution_count": 39,
   "metadata": {},
   "outputs": [],
   "source": [
    "import turtle\n",
    "x = turtle.Turtle()\n",
    "\n",
    "def square(angle):\n",
    "    x.forward(100)\n",
    "    x.right(angle)\n",
    "    x.forward(100)\n",
    "    x.right(100)\n",
    "    x.forward(100)\n",
    "    x.right(100)\n",
    "    x.forward(100)\n",
    "    x.right(angle+10)\n",
    "    \n",
    "for i in range(36):\n",
    "    square(90)"
   ]
  },
  {
   "cell_type": "code",
   "execution_count": null,
   "metadata": {},
   "outputs": [],
   "source": []
  },
  {
   "cell_type": "code",
   "execution_count": null,
   "metadata": {},
   "outputs": [],
   "source": []
  },
  {
   "cell_type": "code",
   "execution_count": null,
   "metadata": {},
   "outputs": [],
   "source": []
  },
  {
   "cell_type": "code",
   "execution_count": null,
   "metadata": {},
   "outputs": [],
   "source": []
  },
  {
   "cell_type": "code",
   "execution_count": null,
   "metadata": {},
   "outputs": [],
   "source": []
  },
  {
   "cell_type": "code",
   "execution_count": null,
   "metadata": {},
   "outputs": [],
   "source": []
  },
  {
   "cell_type": "code",
   "execution_count": null,
   "metadata": {},
   "outputs": [],
   "source": []
  },
  {
   "cell_type": "code",
   "execution_count": null,
   "metadata": {},
   "outputs": [],
   "source": []
  }
 ],
 "metadata": {
  "kernelspec": {
   "display_name": "Python 3",
   "language": "python",
   "name": "python3"
  },
  "language_info": {
   "codemirror_mode": {
    "name": "ipython",
    "version": 3
   },
   "file_extension": ".py",
   "mimetype": "text/x-python",
   "name": "python",
   "nbconvert_exporter": "python",
   "pygments_lexer": "ipython3",
   "version": "3.8.5"
  }
 },
 "nbformat": 4,
 "nbformat_minor": 4
}
